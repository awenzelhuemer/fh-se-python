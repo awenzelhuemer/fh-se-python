{
 "cells": [
  {
   "cell_type": "markdown",
   "metadata": {},
   "source": [
    "## Exercise 2: Pickle\n",
    "This exercise should help you to understand, how Pickle works, what serialization and deserialization is and how you can store and load data using Pickle"
   ]
  },
  {
   "cell_type": "code",
   "execution_count": 4,
   "metadata": {},
   "outputs": [],
   "source": [
    "import pickle"
   ]
  },
  {
   "cell_type": "markdown",
   "metadata": {},
   "source": [
    "### a) Download file and load it into Python\n",
    "Download the file https://www.kaggle.com/jiashenliu/515k-hotel-reviews-data-in-europe?select=Hotel_Reviews.csv and load it into a Pandas DataFrame. User the code \"import pandas; df = pandas.read_csv(file)\""
   ]
  },
  {
   "cell_type": "code",
   "execution_count": 5,
   "metadata": {},
   "outputs": [],
   "source": [
    "import pandas\n",
    "df = pandas.read_csv(\"Hotel_Reviews.csv\")"
   ]
  },
  {
   "cell_type": "markdown",
   "metadata": {},
   "source": [
    "### b) Serializing\n",
    "Serialize the object with pickle and store it to the file system. Compare the size of the original and the serialized data."
   ]
  },
  {
   "cell_type": "code",
   "execution_count": 6,
   "metadata": {},
   "outputs": [],
   "source": [
    "with open(\"hotel_reviews.pickle\", \"wb\") as pickle_out:\n",
    "    pickle.dump(df, pickle_out)"
   ]
  },
  {
   "cell_type": "markdown",
   "metadata": {},
   "source": [
    "### c) Deserializing\n",
    "Load the serialized object into Python and show the first few rows using \"df.head()\""
   ]
  },
  {
   "cell_type": "code",
   "execution_count": 7,
   "metadata": {},
   "outputs": [
    {
     "name": "stdout",
     "output_type": "stream",
     "text": [
      "                                       Hotel_Address  \\\n",
      "0   s Gravesandestraat 55 Oost 1092 AA Amsterdam ...   \n",
      "1   s Gravesandestraat 55 Oost 1092 AA Amsterdam ...   \n",
      "\n",
      "   Additional_Number_of_Scoring Review_Date  Average_Score   Hotel_Name  \\\n",
      "0                           194    8/3/2017            7.7  Hotel Arena   \n",
      "1                           194    8/3/2017            7.7  Hotel Arena   \n",
      "\n",
      "  Reviewer_Nationality                                    Negative_Review  \\\n",
      "0              Russia    I am so angry that i made this post available...   \n",
      "1             Ireland                                         No Negative   \n",
      "\n",
      "   Review_Total_Negative_Word_Counts  Total_Number_of_Reviews  \\\n",
      "0                                397                     1403   \n",
      "1                                  0                     1403   \n",
      "\n",
      "                                     Positive_Review  \\\n",
      "0   Only the park outside of the hotel was beauti...   \n",
      "1   No real complaints the hotel was great great ...   \n",
      "\n",
      "   Review_Total_Positive_Word_Counts  \\\n",
      "0                                 11   \n",
      "1                                105   \n",
      "\n",
      "   Total_Number_of_Reviews_Reviewer_Has_Given  Reviewer_Score  \\\n",
      "0                                           7             2.9   \n",
      "1                                           7             7.5   \n",
      "\n",
      "                                                Tags days_since_review  \\\n",
      "0  [' Leisure trip ', ' Couple ', ' Duplex Double...            0 days   \n",
      "1  [' Leisure trip ', ' Couple ', ' Duplex Double...            0 days   \n",
      "\n",
      "         lat       lng  \n",
      "0  52.360576  4.915968  \n",
      "1  52.360576  4.915968  \n"
     ]
    }
   ],
   "source": [
    "with open(\"hotel_reviews.pickle\", \"rb\") as pickle_in:\n",
    "    hotel_reviews = pickle.load(pickle_in)\n",
    "    print(df.head(2))"
   ]
  },
  {
   "cell_type": "markdown",
   "metadata": {},
   "source": [
    "### d) Deserializing multiple objects\n",
    "Download objects.zip from elearning and unpack it. There are multiple serialized objects in the folder. Load them to Python, get the type of the object and print its value or analyze its function."
   ]
  },
  {
   "cell_type": "code",
   "execution_count": 17,
   "metadata": {},
   "outputs": [
    {
     "name": "stdout",
     "output_type": "stream",
     "text": [
      "[1, 3, 5]\n",
      "<class 'list'>\n",
      "{'a': 1, 'b': True, 'c': 'hello'}\n",
      "<class 'dict'>\n",
      "(3, 4, 6)\n",
      "<class 'tuple'>\n",
      "<function f at 0x000001EC26BE8D30>\n",
      "<class 'function'>\n",
      "<class '__main__.MyClass'>\n",
      "<class 'type'>\n",
      "1\n",
      "<class 'int'>\n",
      "True\n",
      "<class 'bool'>\n",
      "<class 'pandas.core.frame.DataFrame'>\n",
      "<class 'type'>\n",
      "[1 3 5]\n",
      "<class 'numpy.ndarray'>\n"
     ]
    }
   ],
   "source": [
    "class MyClass: # needed to be able to load from pickle file\n",
    "    pass\n",
    "def f():\n",
    "    pass\n",
    "    \n",
    "for object_name in [\"a\", \"b\", \"c\", \"d\" , \"e\", \"f\" , \"g\", \"h\", \"i\"]: \n",
    "    filename = f'./objects/object_{object_name}.pickle'\n",
    "    with open(filename, \"rb\") as pickle_in:\n",
    "        result = pickle.load(pickle_in)\n",
    "        print(result)\n",
    "        print(type(result))"
   ]
  }
 ],
 "metadata": {
  "kernelspec": {
   "display_name": "Python 3 (ipykernel)",
   "language": "python",
   "name": "python3"
  },
  "language_info": {
   "codemirror_mode": {
    "name": "ipython",
    "version": 3
   },
   "file_extension": ".py",
   "mimetype": "text/x-python",
   "name": "python",
   "nbconvert_exporter": "python",
   "pygments_lexer": "ipython3",
   "version": "3.10.0"
  }
 },
 "nbformat": 4,
 "nbformat_minor": 4
}
