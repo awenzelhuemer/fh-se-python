{
 "cells": [
  {
   "cell_type": "markdown",
   "metadata": {},
   "source": [
    "## Exercise 3: JSON & sqlite3\n",
    "This exercise should help you to get a feeling, how to load data, how to store data and how to create an interaction between different packages."
   ]
  },
  {
   "cell_type": "code",
   "execution_count": 2,
   "metadata": {},
   "outputs": [],
   "source": [
    "import json\n",
    "import sqlite3"
   ]
  },
  {
   "cell_type": "markdown",
   "metadata": {},
   "source": [
    "### a) JSON to sqlite 3\n",
    "\n",
    "Write a Script that extracts the data from \"newsletter.json\" and stores it to an sqlite3 database. How you create the table and transfer the data is up to you."
   ]
  },
  {
   "cell_type": "code",
   "execution_count": 26,
   "metadata": {},
   "outputs": [
    {
     "ename": "OperationalError",
     "evalue": "table member already exists",
     "output_type": "error",
     "traceback": [
      "\u001b[1;31m---------------------------------------------------------------------------\u001b[0m",
      "\u001b[1;31mOperationalError\u001b[0m                          Traceback (most recent call last)",
      "\u001b[1;32m~\\AppData\\Local\\Temp/ipykernel_16720/888033205.py\u001b[0m in \u001b[0;36m<module>\u001b[1;34m\u001b[0m\n\u001b[0;32m      5\u001b[0m \u001b[0mconn\u001b[0m \u001b[1;33m=\u001b[0m \u001b[0msqlite3\u001b[0m\u001b[1;33m.\u001b[0m\u001b[0mconnect\u001b[0m\u001b[1;33m(\u001b[0m\u001b[1;34m\"newsletter.db\"\u001b[0m\u001b[1;33m)\u001b[0m\u001b[1;33m\u001b[0m\u001b[1;33m\u001b[0m\u001b[0m\n\u001b[0;32m      6\u001b[0m \u001b[0mc\u001b[0m \u001b[1;33m=\u001b[0m \u001b[0mconn\u001b[0m\u001b[1;33m.\u001b[0m\u001b[0mcursor\u001b[0m\u001b[1;33m(\u001b[0m\u001b[1;33m)\u001b[0m\u001b[1;33m\u001b[0m\u001b[1;33m\u001b[0m\u001b[0m\n\u001b[1;32m----> 7\u001b[1;33m \u001b[0mc\u001b[0m\u001b[1;33m.\u001b[0m\u001b[0mexecute\u001b[0m\u001b[1;33m(\u001b[0m\u001b[1;34m\"create table member (id, first_name, last_name, email, gender, ip_address, subscribed_at, premium_member)\"\u001b[0m\u001b[1;33m)\u001b[0m\u001b[1;33m\u001b[0m\u001b[1;33m\u001b[0m\u001b[0m\n\u001b[0m\u001b[0;32m      8\u001b[0m \u001b[1;32mfor\u001b[0m \u001b[0mmember\u001b[0m \u001b[1;32min\u001b[0m \u001b[0mdata\u001b[0m\u001b[1;33m:\u001b[0m\u001b[1;33m\u001b[0m\u001b[1;33m\u001b[0m\u001b[0m\n\u001b[0;32m      9\u001b[0m     \u001b[0mc\u001b[0m\u001b[1;33m.\u001b[0m\u001b[0mexecute\u001b[0m\u001b[1;33m(\u001b[0m\u001b[1;34m\"insert into member values (?, ?, ?, ?, ?, ?, ?, ?)\"\u001b[0m\u001b[1;33m,\u001b[0m \u001b[1;33m(\u001b[0m\u001b[0mmember\u001b[0m\u001b[1;33m[\u001b[0m\u001b[1;34m\"id\"\u001b[0m\u001b[1;33m]\u001b[0m\u001b[1;33m,\u001b[0m \u001b[0mmember\u001b[0m\u001b[1;33m[\u001b[0m\u001b[1;34m\"first_name\"\u001b[0m\u001b[1;33m]\u001b[0m\u001b[1;33m,\u001b[0m \u001b[0mmember\u001b[0m\u001b[1;33m[\u001b[0m\u001b[1;34m\"last_name\"\u001b[0m\u001b[1;33m]\u001b[0m\u001b[1;33m,\u001b[0m \u001b[0mmember\u001b[0m\u001b[1;33m[\u001b[0m\u001b[1;34m\"email\"\u001b[0m\u001b[1;33m]\u001b[0m\u001b[1;33m,\u001b[0m \u001b[0mmember\u001b[0m\u001b[1;33m[\u001b[0m\u001b[1;34m\"gender\"\u001b[0m\u001b[1;33m]\u001b[0m\u001b[1;33m,\u001b[0m \u001b[0mmember\u001b[0m\u001b[1;33m[\u001b[0m\u001b[1;34m\"ip_address\"\u001b[0m\u001b[1;33m]\u001b[0m\u001b[1;33m,\u001b[0m \u001b[0mmember\u001b[0m\u001b[1;33m[\u001b[0m\u001b[1;34m\"subscribed_at\"\u001b[0m\u001b[1;33m]\u001b[0m\u001b[1;33m,\u001b[0m \u001b[0mmember\u001b[0m\u001b[1;33m[\u001b[0m\u001b[1;34m\"premium_member\"\u001b[0m\u001b[1;33m]\u001b[0m\u001b[1;33m)\u001b[0m\u001b[1;33m)\u001b[0m\u001b[1;33m\u001b[0m\u001b[1;33m\u001b[0m\u001b[0m\n",
      "\u001b[1;31mOperationalError\u001b[0m: table member already exists"
     ]
    }
   ],
   "source": [
    "with open(\"newsletter.json\", \"r\") as f:\n",
    "    data = json.load(f)\n",
    "    # print(json.dumps(data, indent=4))\n",
    "\n",
    "conn = sqlite3.connect(\"newsletter.db\")\n",
    "c = conn.cursor()\n",
    "c.execute(\"create table member (id, first_name, last_name, email, gender, ip_address, subscribed_at, premium_member)\")\n",
    "for member in data:\n",
    "    c.execute(\"insert into member values (?, ?, ?, ?, ?, ?, ?, ?)\", (member[\"id\"], member[\"first_name\"], member[\"last_name\"], member[\"email\"], member[\"gender\"], member[\"ip_address\"], member[\"subscribed_at\"], member[\"premium_member\"]))\n",
    "conn.commit()"
   ]
  },
  {
   "cell_type": "markdown",
   "metadata": {},
   "source": [
    "### b) SQL statements\n",
    "Write a script to perform the following statements:"
   ]
  },
  {
   "cell_type": "markdown",
   "metadata": {},
   "source": [
    "- Get the full names of all the premium users"
   ]
  },
  {
   "cell_type": "code",
   "execution_count": 13,
   "metadata": {},
   "outputs": [
    {
     "name": "stdout",
     "output_type": "stream",
     "text": [
      "[('Parnell Iacobini',), ('Natale Stutt',), ('Zabrina Bridgett',), ('Shaylyn Barwick',), ('Nisse Culp',), ('Fleurette Cauley',), ('Heidi Woolager',), ('Cati Verty',), ('Adam Gethings',), ('Craig Flucker',), ('Aila Soughton',), ('Danyette Comerford',), ('Allyson Poynor',), ('Job Giordano',), ('Osgood Lewtey',), ('Shara Hayfield',), ('Carter Cuschieri',), ('Ulrika Crecy',), ('Alexis Verma',), ('Abdel Chafney',), ('Tiffanie Sapson',), ('Melamie Brik',), ('Ara MacCaig',), ('Arabela Graine',), ('Patrizio Stowte',), ('Chick Sirrell',), ('Alfredo Armin',), ('Waldo Farthin',), ('Alfonso Foad',), ('Weider Sergent',), ('Jaquelyn Claworth',), ('Devlin Whymark',), ('Myra Precious',), ('Kim Gowthrop',), ('Hilarius Skilton',), ('Ariella Bohl',), ('Ernaline Trenam',), ('Junina Alderman',), ('Sancho Fruish',), ('Fanya Sarfati',), ('Crissy Grinyer',), ('Ulrich Carlton',), ('Astrid Peasby',), ('Jude Roman',), ('Teri Burnip',), ('Zahara Green',), ('Loydie Corkan',), ('Raeann Sloper',), ('Alphonso Loughrey',), ('Dulcine Sacase',), ('Reinald Mizzen',), ('Boyce Lawlan',), ('Kellen Flounders',), ('Jill Balding',), ('Fabien Troyes',), ('Jena Greystock',), ('Robbyn Reddell',), ('Berty MacClenan',), ('Penelopa Meineking',), ('Fayina Cino',), ('Erma Threlkeld',), ('Nicolais Hardie',), ('Wilone Langfield',), ('Marti Laughlan',), ('Pen Strewthers',), ('Valentine McIver',), ('Kinny Lancaster',), ('Alexine Maken',), ('Berton Ixer',), ('Maddalena Maffi',), ('Heall Charter',), ('Guillermo Mc Cahey',), ('Emily Barbey',), (\"Corny D'Enrico\",), ('Irvine Lepere',), ('Benjie Hillen',), ('Temple McGeachie',), ('Reynold Kirstein',), ('Halli Hriinchenko',), ('Taber Foucard',), ('Cherye Eye',), ('Easter Huckster',), ('Wilburt Tibols',), ('Koralle Repp',), ('Jessalyn Shord',), ('Rog Bellefant',), ('Cordie Birrane',), ('Clay Wasbey',), ('Cristi Zamorano',), ('Gunilla Perell',), ('Oliver Ibert',), ('Susette Liverock',), ('Hansiain Grinishin',), ('Bea Wahncke',), ('Alexandros Stille',), ('Elspeth Lipgens',), ('Benoit Claughton',), ('Norbie Wanklin',), ('Raffaello Rembrandt',), ('Percy Garretts',), ('Mikol Farman',), ('Cyril Kuhn',), ('Vivian Lepper',), ('Regine Riteley',), ('Myca Kennham',), ('Hunter Kirman',), ('Inna Sainter',), ('Alon Colombier',), ('Cletus Enion',), ('Gan Maloney',), ('Elwyn Reaney',), ('Brianna Bucktharp',), ('Elspeth Gennerich',), ('Hester Gerriessen',), ('Culver Meneghi',), ('Odo McPeice',), ('Asa Gytesham',), ('Gus Heddon',), ('Alvina Millbank',), ('Jedediah Shearwood',), ('Harv Pinock',), ('Jemimah Bofield',), ('Lizbeth Soltan',), ('Johnny Clayworth',), ('Anabelle Treslove',), ('Jeno Cussins',), ('Mathe Salzberger',), ('Wanids Brookwell',), ('Kerby Gascoigne',), ('Benjy Backshell',), ('Leeanne Lawrenson',), ('Lisbeth Palumbo',), ('Lutero Gaitone',), ('Diahann Boliver',), ('Issi Haskew',), ('Dunc Laslett',), ('Timmi Millin',), ('Elsi Bartlett',), ('Ole Duffree',), ('Roch Salmon',), ('Nicolina Clemmey',), ('Ruddy Heinle',), ('Elaina Rumin',), ('Minette Staziker',), ('Arly Filippov',), ('Mitchell Morforth',), ('Elnore Watson',), ('Clarey Quarles',), ('Cristy Fancutt',), ('Wylma Atkin',), ('Michelle Temperton',), ('Alley Soots',), ('Mata Oxer',), ('Alexandre Dearman',), ('Pepillo Barrs',), ('Waite Klimov',), ('Janie Held',), ('Hilly Smye',), ('Shaine Isakovitch',), ('Luis Blune',), ('Lyn Gerber',), ('Edita Gosnay',), ('Ransell Romanin',), ('Jocko Baldacchino',), ('Jania Westrope',), ('Gracia McWilliams',), ('Amabel Farrer',), ('Randolf Beagin',), ('Karia Airey',), (\"Tiffie D'Onisi\",), ('Andres Rosenfelt',), ('Chucho Skechley',), ('Baudoin Gianettini',), ('Jerrie Yashunin',), ('Sheff Whitnell',), ('L;urette Piggen',), ('Ethan Mewe',), ('Abbott Goodwin',), ('Nils Yeell',), ('Adham Francillo',), ('Aurelia Benettelli',), ('Marion Cutmare',), ('Rivi Brislen',), ('Lilas Seally',), ('Katina Stallibrass',), ('Michel McIlheran',), ('Jerry Grabbam',), ('Jeanette Viscovi',), ('Erwin Mingardi',), ('Elicia Charity',), ('Gino Sponder',), ('Franni Alvarado',), ('Odille Conquest',), ('Peadar Creebo',), ('Jilly Lally',), ('Jacquelynn Winship',), ('Mal Tudge',), ('Jaime Flescher',), ('Mateo Jehaes',), ('Kimberley Espada',), ('Almeta Hair',), ('Honoria Toyer',), ('Myrtice Mieville',), ('Julia Oxberry',), ('Feodora Abramov',), ('Mei Brewett',), ('Frazier Gercken',), ('Minerva Sharrier',), ('Carolin Enderby',), ('Iggie Becks',), ('Desirae Chainey',), ('Ollie Verni',), ('Conroy Plastow',), ('Stu Gronw',), ('Ethyl Fernie',), ('Jocelyne Traill',), ('Ermengarde Roscamps',), ('Levy Hens',), ('Konrad Farrance',), ('Marcelia Cutmare',), ('Lidia Quixley',), ('Elysee Lopez',), ('Shelba Dunmuir',), ('Eva Geillier',), ('Vernon Verna',), ('Jocelin Polhill',), ('Grange Underhill',), ('Zollie Thirsk',), ('Elbert Menham',), ('Chevy Spurdle',), ('Orran Kempster',), ('Gayla Draude',), ('Denny Rawe',), (\"Vite O'Kelly\",), ('Helenelizabeth Rudgerd',), ('Kermy Toun',), ('Eachelle Luck',), ('Cesare Gorioli',), ('Fran Drohane',), ('Parry Grayer',), ('Dareen Bowe',), ('Tobias Delea',), ('Malinde Matiewe',), ('Elvis McCorkell',), ('Gui Fortun',), ('Vannie Ozintsev',), ('Mignonne Marcussen',), ('Mireille Freiberg',), ('Wallis Coppock.',), ('Kalli Wesgate',), ('Zechariah Aaron',), ('Angeli Whaplington',), ('Arley Frankland',), ('Darbee Cleaton',), ('Ichabod Housby',), ('Kristi Critchley',), ('Sophey Blackston',), ('Wiatt Fere',), ('Danette Tippin',), ('Essa Muzzollo',), ('Aarika Izzatt',), ('Erik Bunston',), ('Clem Roderick',), ('Mathew Orwin',), ('Colman Salthouse',), ('Alexi Prazor',), ('Sheela Knapper',), ('Damian Littefair',), ('Terrie Floyd',), ('Valene Naulty',)]\n"
     ]
    }
   ],
   "source": [
    "result = c.execute('''SELECT first_name || ' ' || last_name FROM member WHERE premium_member = 1''')\n",
    "print(result.fetchall())"
   ]
  },
  {
   "cell_type": "markdown",
   "metadata": {},
   "source": [
    "- What is the ratio of premium users?"
   ]
  },
  {
   "cell_type": "code",
   "execution_count": 19,
   "metadata": {},
   "outputs": [
    {
     "name": "stdout",
     "output_type": "stream",
     "text": [
      "0.54\n"
     ]
    }
   ],
   "source": [
    "countPremium = c.execute('''SELECT COUNT(id) FROM member WHERE premium_member = 1''').fetchone()\n",
    "countAll = c.execute('''SELECT COUNT(id) FROM member''').fetchone()\n",
    "print(countPremium[0] / countAll[0])"
   ]
  },
  {
   "cell_type": "markdown",
   "metadata": {},
   "source": [
    "- What is the most common first name?"
   ]
  },
  {
   "cell_type": "code",
   "execution_count": 29,
   "metadata": {},
   "outputs": [
    {
     "name": "stdout",
     "output_type": "stream",
     "text": [
      "('Ulrich', 2)\n"
     ]
    }
   ],
   "source": [
    "first_name = c.execute('''\n",
    "SELECT first_name, COUNT(*)\n",
    "FROM member\n",
    "GROUP BY first_name\n",
    "ORDER BY COUNT(first_name) DESC LIMIT 1''').fetchone()\n",
    "print(first_name)\n"
   ]
  },
  {
   "cell_type": "code",
   "execution_count": 30,
   "metadata": {},
   "outputs": [],
   "source": [
    "conn.close()"
   ]
  },
  {
   "cell_type": "code",
   "execution_count": null,
   "metadata": {},
   "outputs": [],
   "source": []
  }
 ],
 "metadata": {
  "kernelspec": {
   "display_name": "Python 3 (ipykernel)",
   "language": "python",
   "name": "python3"
  },
  "language_info": {
   "codemirror_mode": {
    "name": "ipython",
    "version": 3
   },
   "file_extension": ".py",
   "mimetype": "text/x-python",
   "name": "python",
   "nbconvert_exporter": "python",
   "pygments_lexer": "ipython3",
   "version": "3.10.0"
  }
 },
 "nbformat": 4,
 "nbformat_minor": 4
}
