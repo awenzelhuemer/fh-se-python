{
 "cells": [
  {
   "cell_type": "code",
   "execution_count": 1,
   "id": "8cdc9d3e-28bb-4917-8851-056a44ef30b7",
   "metadata": {},
   "outputs": [],
   "source": [
    "x = 1"
   ]
  },
  {
   "cell_type": "code",
   "execution_count": 2,
   "id": "85c8be13-1952-4b04-a413-a985c045c17b",
   "metadata": {},
   "outputs": [
    {
     "name": "stdout",
     "output_type": "stream",
     "text": [
      "1\n"
     ]
    }
   ],
   "source": [
    "print(x)"
   ]
  },
  {
   "cell_type": "code",
   "execution_count": 6,
   "id": "bbd19b73-afe3-4f30-89f0-6251ec0a7e8d",
   "metadata": {},
   "outputs": [],
   "source": [
    "l = [1, 3, 4]"
   ]
  },
  {
   "cell_type": "code",
   "execution_count": 7,
   "id": "e46a2050-bebd-41e2-927c-d930bdc47efd",
   "metadata": {},
   "outputs": [
    {
     "data": {
      "text/plain": [
       "[1, 9, 16]"
      ]
     },
     "execution_count": 7,
     "metadata": {},
     "output_type": "execute_result"
    }
   ],
   "source": [
    "[i ** 2 for i in l]"
   ]
  },
  {
   "cell_type": "markdown",
   "id": "486c4638-39bc-443b-b4c1-fcf92d3548fa",
   "metadata": {},
   "source": [
    "# This is a header"
   ]
  },
  {
   "cell_type": "markdown",
   "id": "7fff9758-1bf8-4c66-a64c-0642392dcc53",
   "metadata": {},
   "source": [
    "This is a text"
   ]
  },
  {
   "cell_type": "markdown",
   "id": "e03f66c5-0383-4de1-940e-fb697844f4fd",
   "metadata": {},
   "source": [
    "The factorial of a given number n\n",
    "\n",
    "\\begin{equation}\n",
    "n! = \\prod_(i = 1)^n i\n",
    "\\end{equation}\n",
    "\n",
    "is the product of all positve integers less than or equal to n"
   ]
  },
  {
   "cell_type": "code",
   "execution_count": 11,
   "id": "36d875b8-b542-40c5-9c2c-c44754a790d7",
   "metadata": {},
   "outputs": [],
   "source": [
    "def factorial(n):\n",
    "    if n == 0:\n",
    "        return 1\n",
    "    else:\n",
    "        return n * factorial(n-1)"
   ]
  },
  {
   "cell_type": "code",
   "execution_count": 12,
   "id": "1ad5dc13-0029-4954-9b1d-c4d93727bd64",
   "metadata": {},
   "outputs": [
    {
     "data": {
      "text/plain": [
       "3628800"
      ]
     },
     "execution_count": 12,
     "metadata": {},
     "output_type": "execute_result"
    }
   ],
   "source": [
    "factorial(10)"
   ]
  }
 ],
 "metadata": {
  "kernelspec": {
   "display_name": "Python 3 (ipykernel)",
   "language": "python",
   "name": "python3"
  },
  "language_info": {
   "codemirror_mode": {
    "name": "ipython",
    "version": 3
   },
   "file_extension": ".py",
   "mimetype": "text/x-python",
   "name": "python",
   "nbconvert_exporter": "python",
   "pygments_lexer": "ipython3",
   "version": "3.10.0"
  }
 },
 "nbformat": 4,
 "nbformat_minor": 5
}
