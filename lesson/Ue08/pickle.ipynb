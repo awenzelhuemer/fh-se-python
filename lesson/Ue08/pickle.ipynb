{
 "cells": [
  {
   "cell_type": "markdown",
   "id": "e060d2a6-78bd-4d1f-8af2-a07efe003f18",
   "metadata": {},
   "source": [
    "# 02. Lecture Notes: Pickle"
   ]
  },
  {
   "cell_type": "code",
   "execution_count": 9,
   "id": "35cd2750-d863-4c74-b608-cb996b72d0aa",
   "metadata": {},
   "outputs": [],
   "source": [
    "import pickle"
   ]
  },
  {
   "cell_type": "code",
   "execution_count": 5,
   "id": "ade08766-6690-4b54-93df-5e33f7c6302a",
   "metadata": {},
   "outputs": [
    {
     "data": {
      "text/plain": [
       "<module 'pickle' from 'C:\\\\Users\\\\Andi\\\\AppData\\\\Local\\\\Programs\\\\Python\\\\Python310\\\\lib\\\\pickle.py'>"
      ]
     },
     "execution_count": 5,
     "metadata": {},
     "output_type": "execute_result"
    }
   ],
   "source": [
    "pickle"
   ]
  },
  {
   "cell_type": "markdown",
   "id": "0f9e12a4-b715-4fa9-bba1-65746a60b6cb",
   "metadata": {},
   "source": [
    "## 1. Dump object to file system"
   ]
  },
  {
   "cell_type": "code",
   "execution_count": 6,
   "id": "07ee8827-ab24-4c46-97fd-0a4ea045d926",
   "metadata": {},
   "outputs": [],
   "source": [
    "example_dict = {1: 6, 2: False, 3: \"Bob\"}"
   ]
  },
  {
   "cell_type": "code",
   "execution_count": 7,
   "id": "834164ad-9287-474e-968d-bda2da342862",
   "metadata": {},
   "outputs": [
    {
     "data": {
      "text/plain": [
       "{1: 6, 2: False, 3: 'Bob'}"
      ]
     },
     "execution_count": 7,
     "metadata": {},
     "output_type": "execute_result"
    }
   ],
   "source": [
    "example_dict"
   ]
  },
  {
   "cell_type": "code",
   "execution_count": 11,
   "id": "208aafe4-b50d-4e23-8792-7d64f3c7d3a9",
   "metadata": {},
   "outputs": [],
   "source": [
    "with open(\"dict.pickle\", \"wb\") as pickle_out:\n",
    "    pickle.dump(example_dict, pickle_out)"
   ]
  },
  {
   "cell_type": "markdown",
   "id": "25dd0dfd-263e-437e-8661-78c75f359e2a",
   "metadata": {},
   "source": [
    "## 2. Load object from file system"
   ]
  },
  {
   "cell_type": "code",
   "execution_count": 13,
   "id": "11b63b44-67c1-4b75-8c63-0d666ddb99ad",
   "metadata": {},
   "outputs": [],
   "source": [
    "with open(\"dict.pickle\", \"rb\") as pickle_in:\n",
    "    example_dict_load = pickle.load(pickle_in)"
   ]
  },
  {
   "cell_type": "code",
   "execution_count": 14,
   "id": "a686da78-ef2f-4570-8139-7fc971e9ae4f",
   "metadata": {},
   "outputs": [
    {
     "data": {
      "text/plain": [
       "{1: 6, 2: False, 3: 'Bob'}"
      ]
     },
     "execution_count": 14,
     "metadata": {},
     "output_type": "execute_result"
    }
   ],
   "source": [
    "example_dict_load"
   ]
  },
  {
   "cell_type": "markdown",
   "id": "ca29a0de-3a81-4294-9a59-a105d68b87d3",
   "metadata": {},
   "source": [
    "## Show Byte-Code"
   ]
  },
  {
   "cell_type": "code",
   "execution_count": 15,
   "id": "382c1cbb-d893-406d-abf0-6fada922c59a",
   "metadata": {},
   "outputs": [],
   "source": [
    "example_dict_bytes = pickle.dumps(example_dict)"
   ]
  },
  {
   "cell_type": "code",
   "execution_count": 16,
   "id": "48b11e29-103e-4b4a-bde5-e77f078188e9",
   "metadata": {},
   "outputs": [
    {
     "data": {
      "text/plain": [
       "bytes"
      ]
     },
     "execution_count": 16,
     "metadata": {},
     "output_type": "execute_result"
    }
   ],
   "source": [
    "type(example_dict_bytes)"
   ]
  },
  {
   "cell_type": "code",
   "execution_count": null,
   "id": "2e24dacf-c07f-4f53-b73d-6bd7d8204171",
   "metadata": {},
   "outputs": [],
   "source": []
  }
 ],
 "metadata": {
  "kernelspec": {
   "display_name": "Python 3 (ipykernel)",
   "language": "python",
   "name": "python3"
  },
  "language_info": {
   "codemirror_mode": {
    "name": "ipython",
    "version": 3
   },
   "file_extension": ".py",
   "mimetype": "text/x-python",
   "name": "python",
   "nbconvert_exporter": "python",
   "pygments_lexer": "ipython3",
   "version": "3.10.0"
  }
 },
 "nbformat": 4,
 "nbformat_minor": 5
}
