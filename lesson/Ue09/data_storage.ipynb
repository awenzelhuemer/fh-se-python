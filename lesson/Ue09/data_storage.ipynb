{
 "cells": [
  {
   "cell_type": "markdown",
   "id": "a0b1a8f8-3261-4860-b9c8-368fe83bc929",
   "metadata": {},
   "source": [
    "# Lecture 2: Data Storage"
   ]
  },
  {
   "cell_type": "markdown",
   "id": "c3ddf7e6-a811-482a-8b30-a6eb6b4a1806",
   "metadata": {},
   "source": [
    "## 1. Text Files"
   ]
  },
  {
   "cell_type": "markdown",
   "id": "ff32a0d7-a82e-43dd-8a05-91717581ea0e",
   "metadata": {},
   "source": [
    "### a. Read File"
   ]
  },
  {
   "cell_type": "code",
   "execution_count": 10,
   "id": "12a019ca-0fe2-46f5-ac3d-a79220337018",
   "metadata": {},
   "outputs": [],
   "source": [
    "f = open(\"dummy_text_file.txt\", \"r\")"
   ]
  },
  {
   "cell_type": "code",
   "execution_count": 11,
   "id": "95d7b377-1462-40b7-86fe-4ad4df7d4953",
   "metadata": {},
   "outputs": [
    {
     "name": "stdout",
     "output_type": "stream",
     "text": [
      "Overwritten file\n"
     ]
    }
   ],
   "source": [
    "print(f.read())"
   ]
  },
  {
   "cell_type": "code",
   "execution_count": 12,
   "id": "0bb39bd8-e190-4110-8751-2cd6218a6466",
   "metadata": {},
   "outputs": [],
   "source": [
    "f.close()"
   ]
  },
  {
   "cell_type": "code",
   "execution_count": 13,
   "id": "8819ee6a-5c46-4b4c-b70a-38c0d045bd3b",
   "metadata": {},
   "outputs": [
    {
     "name": "stdout",
     "output_type": "stream",
     "text": [
      "Overwritten file\n"
     ]
    }
   ],
   "source": [
    "with open(\"dummy_text_file.txt\", \"r\") as f:\n",
    "    print(f.read())"
   ]
  },
  {
   "cell_type": "markdown",
   "id": "0e24036b-5e1f-4167-8bee-7408fe7f941f",
   "metadata": {},
   "source": [
    "### b. Append to file"
   ]
  },
  {
   "cell_type": "code",
   "execution_count": 14,
   "id": "a2ce34e8-f7e6-414b-a180-6b32b4fc05c5",
   "metadata": {},
   "outputs": [],
   "source": [
    "with open(\"dummy_text_file.txt\", \"a\") as f:\n",
    "    f.write(\"\\nAdd a new line\")"
   ]
  },
  {
   "cell_type": "markdown",
   "id": "5f4382e2-f3c7-4160-b09f-50ab33d1b34f",
   "metadata": {},
   "source": [
    "### c. Overwrite File"
   ]
  },
  {
   "cell_type": "code",
   "execution_count": 15,
   "id": "b7821341-28b8-40f2-9c73-b173caea76d4",
   "metadata": {},
   "outputs": [],
   "source": [
    "with open(\"dummy_text_file.txt\", \"w\") as f:\n",
    "    f.write(\"Overwritten file\")"
   ]
  },
  {
   "cell_type": "markdown",
   "id": "2eb80744-b6d1-4a70-98af-df6b7f93066e",
   "metadata": {},
   "source": [
    "### d. New File"
   ]
  },
  {
   "cell_type": "code",
   "execution_count": 16,
   "id": "157e66b6-0712-441d-a07b-364ce7dcd52d",
   "metadata": {},
   "outputs": [],
   "source": [
    "with open(\"dummy_text_file_new.txt\", \"x\") as f:\n",
    "    f.write(\"This is my new file\")"
   ]
  },
  {
   "cell_type": "code",
   "execution_count": 18,
   "id": "0e6252b1-3b8c-4b06-aaa8-e8d66b1c3eb8",
   "metadata": {},
   "outputs": [
    {
     "name": "stdout",
     "output_type": "stream",
     "text": [
      "Overwritten file\n"
     ]
    }
   ],
   "source": [
    "with open(\"dummy_text_file.txt\", \"r\") as f:\n",
    "    print(f.readline())"
   ]
  },
  {
   "cell_type": "markdown",
   "id": "327db4fd-2946-4c7f-bb71-53498066bb60",
   "metadata": {},
   "source": [
    "## 2. JSON"
   ]
  },
  {
   "cell_type": "code",
   "execution_count": 19,
   "id": "b8d87461-d4c6-44bb-8855-cefebf71b3c0",
   "metadata": {},
   "outputs": [],
   "source": [
    "import json"
   ]
  },
  {
   "cell_type": "code",
   "execution_count": 20,
   "id": "0a526b42-90c6-41a5-be1d-10f61811f995",
   "metadata": {},
   "outputs": [
    {
     "data": {
      "text/plain": [
       "<module 'json' from 'C:\\\\Users\\\\Andi\\\\AppData\\\\Local\\\\Programs\\\\Python\\\\Python310\\\\lib\\\\json\\\\__init__.py'>"
      ]
     },
     "execution_count": 20,
     "metadata": {},
     "output_type": "execute_result"
    }
   ],
   "source": [
    "json"
   ]
  },
  {
   "cell_type": "code",
   "execution_count": 21,
   "id": "d4a14083-217b-4973-9fb1-d78f41056cc8",
   "metadata": {},
   "outputs": [
    {
     "data": {
      "text/plain": [
       "{'fruits': []}"
      ]
     },
     "execution_count": 21,
     "metadata": {},
     "output_type": "execute_result"
    }
   ],
   "source": [
    "data = {}\n",
    "data[\"fruits\"] = []\n",
    "data"
   ]
  },
  {
   "cell_type": "code",
   "execution_count": 23,
   "id": "caf00991-dbc2-4d9b-8a55-61c397e20de7",
   "metadata": {},
   "outputs": [],
   "source": [
    "data[\"fruits\"].append({\n",
    "    \"name\": \"Banana\",\n",
    "    \"taste\": \"sweet\",\n",
    "    \"color\": \"yellow\",\n",
    "    \"grade\": 2\n",
    "})\n",
    "data[\"fruits\"].append({\n",
    "    \"name\": \"Lychee\",\n",
    "    \"taste\": \"fishy\",\n",
    "    \"color\": \"strange white\",\n",
    "    \"grade\": 5\n",
    "})"
   ]
  },
  {
   "cell_type": "code",
   "execution_count": 24,
   "id": "9e9daeb4-bd22-4f31-b6ed-d28549ac01d6",
   "metadata": {},
   "outputs": [
    {
     "data": {
      "text/plain": [
       "{'fruits': [{'name': 'Banana',\n",
       "   'taste': 'sweet',\n",
       "   'color': 'yellow',\n",
       "   'grade': 2},\n",
       "  {'name': 'Banana', 'taste': 'sweet', 'color': 'yellow', 'grade': 2},\n",
       "  {'name': 'Lychee', 'taste': 'fishy', 'color': 'strange white', 'grade': 5}]}"
      ]
     },
     "execution_count": 24,
     "metadata": {},
     "output_type": "execute_result"
    }
   ],
   "source": [
    "data"
   ]
  },
  {
   "cell_type": "code",
   "execution_count": 26,
   "id": "06e5975c-b958-4cf2-881b-4fea0672f7bc",
   "metadata": {},
   "outputs": [],
   "source": [
    "with open(\"fruits.json\", \"w\") as f:\n",
    "    json.dump(data, f)"
   ]
  },
  {
   "cell_type": "markdown",
   "id": "eeffa9be-b49a-4d96-a9cd-53eb577dc1cc",
   "metadata": {},
   "source": [
    "### b. Load JSON"
   ]
  },
  {
   "cell_type": "code",
   "execution_count": 29,
   "id": "330dafbc-bc43-4219-a7a8-786073ca659d",
   "metadata": {},
   "outputs": [
    {
     "name": "stdout",
     "output_type": "stream",
     "text": [
      "{\n",
      "    \"fruits\": [\n",
      "        {\n",
      "            \"name\": \"Banana\",\n",
      "            \"taste\": \"sweet\",\n",
      "            \"color\": \"yellow\",\n",
      "            \"grade\": 2\n",
      "        },\n",
      "        {\n",
      "            \"name\": \"Banana\",\n",
      "            \"taste\": \"sweet\",\n",
      "            \"color\": \"yellow\",\n",
      "            \"grade\": 2\n",
      "        },\n",
      "        {\n",
      "            \"name\": \"Lychee\",\n",
      "            \"taste\": \"fishy\",\n",
      "            \"color\": \"strange white\",\n",
      "            \"grade\": 5\n",
      "        }\n",
      "    ]\n",
      "}\n"
     ]
    }
   ],
   "source": [
    "with open(\"fruits.json\", \"r\") as f:\n",
    "    data = json.load(f)\n",
    "    print(json.dumps(data, indent=4))"
   ]
  },
  {
   "cell_type": "markdown",
   "id": "7ee33eb5-2066-42f8-83d9-56349766ec5d",
   "metadata": {},
   "source": [
    "## 3. SQLITE 3"
   ]
  },
  {
   "cell_type": "code",
   "execution_count": 31,
   "id": "782ec595-064c-4a32-a16b-fdf590be8020",
   "metadata": {},
   "outputs": [],
   "source": [
    "import sqlite3"
   ]
  },
  {
   "cell_type": "markdown",
   "id": "b7382ca7-9aeb-4b59-a860-8f3f26150142",
   "metadata": {},
   "source": [
    "### a. Create Connection to database "
   ]
  },
  {
   "cell_type": "code",
   "execution_count": 32,
   "id": "cd667f39-a669-42f4-bae8-cb86d99c18fd",
   "metadata": {},
   "outputs": [],
   "source": [
    "conn = sqlite3.connect(\"my_db.db\")"
   ]
  },
  {
   "cell_type": "code",
   "execution_count": 33,
   "id": "7e86de1a-861d-4c1d-b2df-ff79d8abd962",
   "metadata": {},
   "outputs": [
    {
     "data": {
      "text/plain": [
       "<sqlite3.Connection at 0x177945f2740>"
      ]
     },
     "execution_count": 33,
     "metadata": {},
     "output_type": "execute_result"
    }
   ],
   "source": [
    "conn"
   ]
  },
  {
   "cell_type": "markdown",
   "id": "021ecb01-7fdf-45cc-9c65-0af243908fff",
   "metadata": {},
   "source": [
    "### b. Create cursor"
   ]
  },
  {
   "cell_type": "code",
   "execution_count": 34,
   "id": "545d09f1-1e8e-4984-b118-a89066aedf6a",
   "metadata": {},
   "outputs": [],
   "source": [
    "c = conn.cursor()"
   ]
  },
  {
   "cell_type": "code",
   "execution_count": 35,
   "id": "2abbaa46-ffdb-4b7e-86e2-c4667c84448b",
   "metadata": {},
   "outputs": [
    {
     "data": {
      "text/plain": [
       "<sqlite3.Cursor at 0x177966cfa40>"
      ]
     },
     "execution_count": 35,
     "metadata": {},
     "output_type": "execute_result"
    }
   ],
   "source": [
    "c"
   ]
  },
  {
   "cell_type": "markdown",
   "id": "a4ab3e56-30b3-4d30-bd5c-f76270bdc84f",
   "metadata": {},
   "source": [
    "### c. Create Table"
   ]
  },
  {
   "cell_type": "code",
   "execution_count": 36,
   "id": "4553a2b4-2b53-4d01-8033-041816cb2ee5",
   "metadata": {},
   "outputs": [
    {
     "data": {
      "text/plain": [
       "<sqlite3.Cursor at 0x177966cfa40>"
      ]
     },
     "execution_count": 36,
     "metadata": {},
     "output_type": "execute_result"
    }
   ],
   "source": [
    "c.execute(\"CREATE TABLE IF NOT EXISTS fruits(name text, taste text, color text, grade decimal)\")"
   ]
  },
  {
   "cell_type": "markdown",
   "id": "77c35bd3-6ff3-4370-92cf-e0dc19f98bc2",
   "metadata": {},
   "source": [
    "### d. Insert data into table"
   ]
  },
  {
   "cell_type": "code",
   "execution_count": 37,
   "id": "250cb59d-2dc7-4a47-85e3-cc4bd97864f1",
   "metadata": {},
   "outputs": [
    {
     "data": {
      "text/plain": [
       "<sqlite3.Cursor at 0x177966cfa40>"
      ]
     },
     "execution_count": 37,
     "metadata": {},
     "output_type": "execute_result"
    }
   ],
   "source": [
    "c.execute('''INSERT INTO fruits VALUES ('Banana', 'sweet', 'yellow', 2)''')"
   ]
  },
  {
   "cell_type": "code",
   "execution_count": 38,
   "id": "693e51b2-c56b-4835-9c3d-e6589bbcedec",
   "metadata": {},
   "outputs": [],
   "source": [
    "conn.commit()"
   ]
  },
  {
   "cell_type": "markdown",
   "id": "b9158a27-f8e1-44fe-a34b-cbc543d98925",
   "metadata": {},
   "source": [
    "### e. rollback()"
   ]
  },
  {
   "cell_type": "code",
   "execution_count": 39,
   "id": "91a3e386-fc17-4390-a5a8-f97e93e9c7ed",
   "metadata": {},
   "outputs": [
    {
     "data": {
      "text/plain": [
       "<sqlite3.Cursor at 0x177966cfa40>"
      ]
     },
     "execution_count": 39,
     "metadata": {},
     "output_type": "execute_result"
    }
   ],
   "source": [
    "c.execute('''INSERT INTO fruits VALUES ('Banana', 'sweet', 'yellow', 2)''')"
   ]
  },
  {
   "cell_type": "code",
   "execution_count": 40,
   "id": "6efef438-0f4e-4963-923d-5043f8bf14c1",
   "metadata": {},
   "outputs": [],
   "source": [
    "conn.rollback()"
   ]
  },
  {
   "cell_type": "markdown",
   "id": "6e7abb38-fbcf-4480-aa58-09f147493d45",
   "metadata": {},
   "source": [
    "### f. Write variables to db"
   ]
  },
  {
   "cell_type": "code",
   "execution_count": 43,
   "id": "1df40fd8-6fdf-4601-b4f4-c22b3b7402b6",
   "metadata": {},
   "outputs": [],
   "source": [
    "fruit = \"Apple\"\n",
    "taste = \"sour\"\n",
    "color = \"red\"\n",
    "grade = 1"
   ]
  },
  {
   "cell_type": "code",
   "execution_count": 44,
   "id": "d274ee30-27b4-4639-a07e-2b87058d4f2a",
   "metadata": {},
   "outputs": [
    {
     "data": {
      "text/plain": [
       "<sqlite3.Cursor at 0x177966cfa40>"
      ]
     },
     "execution_count": 44,
     "metadata": {},
     "output_type": "execute_result"
    }
   ],
   "source": [
    "c.execute('''INSERT INTO fruits VALUES (?, ?, ?, ?)''', (fruit, taste, color, grade))"
   ]
  },
  {
   "cell_type": "code",
   "execution_count": 45,
   "id": "e6d56cd7-becd-441f-93ba-92e73927a182",
   "metadata": {},
   "outputs": [],
   "source": [
    "conn.commit()"
   ]
  },
  {
   "cell_type": "markdown",
   "id": "d41557a6-e382-4296-ae9d-7a2a0fd53ff9",
   "metadata": {},
   "source": [
    "### Write many values to DB"
   ]
  },
  {
   "cell_type": "code",
   "execution_count": 48,
   "id": "8d57329f-b04f-4b70-a2c1-8a66587cb266",
   "metadata": {},
   "outputs": [],
   "source": [
    "fruits = [\n",
    "    ('Orange', 'sweet', 'orange', 2),\n",
    "    ('Orange', 'sweet', 'orange', 2)\n",
    "          ]"
   ]
  },
  {
   "cell_type": "code",
   "execution_count": 49,
   "id": "ecd124d5-1b31-4a40-8f69-3e266168b2a3",
   "metadata": {},
   "outputs": [
    {
     "data": {
      "text/plain": [
       "[('Orange', 'sweet', 'orange', 2), ('Orange', 'sweet', 'orange', 2)]"
      ]
     },
     "execution_count": 49,
     "metadata": {},
     "output_type": "execute_result"
    }
   ],
   "source": [
    "fruits"
   ]
  },
  {
   "cell_type": "code",
   "execution_count": 51,
   "id": "4cb95c50-13fd-4268-b709-d4173bb27fa6",
   "metadata": {},
   "outputs": [
    {
     "data": {
      "text/plain": [
       "<sqlite3.Cursor at 0x177966cfa40>"
      ]
     },
     "execution_count": 51,
     "metadata": {},
     "output_type": "execute_result"
    }
   ],
   "source": [
    "c.executemany('''INSERT INTO fruits VALUES (?, ?, ?, ?)''', fruits)"
   ]
  },
  {
   "cell_type": "code",
   "execution_count": 52,
   "id": "aaf065b1-aa17-43d8-a457-fd6eecbb583a",
   "metadata": {},
   "outputs": [],
   "source": [
    "conn.commit()"
   ]
  },
  {
   "cell_type": "markdown",
   "id": "fbe414ef-ebdd-4776-af87-5faa9c5a778d",
   "metadata": {},
   "source": [
    "### h. executescript()"
   ]
  },
  {
   "cell_type": "code",
   "execution_count": 55,
   "id": "b6325887-ea14-4b5d-bec9-7e4b2a6adcb7",
   "metadata": {},
   "outputs": [
    {
     "data": {
      "text/plain": [
       "<sqlite3.Cursor at 0x177966cfa40>"
      ]
     },
     "execution_count": 55,
     "metadata": {},
     "output_type": "execute_result"
    }
   ],
   "source": [
    "c.executescript('''\n",
    "    INSERT INTO fruits VALUES ('Pineapple', 'sweet', 'yellow', 3);\n",
    "    INSERT INTO fruits VALUES ('Pineapple', 'sweet', 'yellow', 3);\n",
    "''')"
   ]
  },
  {
   "cell_type": "code",
   "execution_count": 56,
   "id": "b1a919ac-35d9-485d-abf1-18f765c62687",
   "metadata": {},
   "outputs": [],
   "source": [
    "conn.commit()"
   ]
  },
  {
   "cell_type": "markdown",
   "id": "a9a26610-3066-42a1-a9dd-db27e9fcc448",
   "metadata": {},
   "source": [
    "### i. fetchone() und fetchall()"
   ]
  },
  {
   "cell_type": "code",
   "execution_count": 58,
   "id": "e6120e68-89cf-4597-857c-706a76c97df7",
   "metadata": {},
   "outputs": [],
   "source": [
    "result = c.execute('''SELECT * FROM fruits''')"
   ]
  },
  {
   "cell_type": "code",
   "execution_count": 60,
   "id": "373c2997-0ba9-49af-8081-0d5f0d38649d",
   "metadata": {},
   "outputs": [
    {
     "data": {
      "text/plain": [
       "('Banana', 'sweet', 'yellow', 2)"
      ]
     },
     "execution_count": 60,
     "metadata": {},
     "output_type": "execute_result"
    }
   ],
   "source": [
    "result.fetchone()"
   ]
  },
  {
   "cell_type": "code",
   "execution_count": 61,
   "id": "31612356-b36d-4a15-a9f7-d50619a07a57",
   "metadata": {},
   "outputs": [
    {
     "data": {
      "text/plain": [
       "('Apple', 'sour', 'red', 1)"
      ]
     },
     "execution_count": 61,
     "metadata": {},
     "output_type": "execute_result"
    }
   ],
   "source": [
    "result.fetchone()"
   ]
  },
  {
   "cell_type": "code",
   "execution_count": 62,
   "id": "992c4bb2-3563-43ce-a463-8f87246ce367",
   "metadata": {},
   "outputs": [
    {
     "data": {
      "text/plain": [
       "[('Orange', 'sweet', 'orange', 2),\n",
       " ('Orange', 'sweet', 'orange', 2),\n",
       " ('Pineapple', 'sweet', 'yellow', 3),\n",
       " ('Pineapple', 'sweet', 'yellow', 3),\n",
       " ('Pineapple', 'sweet', 'yellow', 3)]"
      ]
     },
     "execution_count": 62,
     "metadata": {},
     "output_type": "execute_result"
    }
   ],
   "source": [
    "result.fetchall()"
   ]
  },
  {
   "cell_type": "markdown",
   "id": "0115ff9c-d209-4543-a02f-72d25795dffb",
   "metadata": {
    "tags": []
   },
   "source": [
    "### j. Close connection"
   ]
  },
  {
   "cell_type": "code",
   "execution_count": 63,
   "id": "177bd794-217e-405e-b124-24afda5c0bf9",
   "metadata": {},
   "outputs": [],
   "source": [
    "conn.close()"
   ]
  }
 ],
 "metadata": {
  "kernelspec": {
   "display_name": "Python 3 (ipykernel)",
   "language": "python",
   "name": "python3"
  },
  "language_info": {
   "codemirror_mode": {
    "name": "ipython",
    "version": 3
   },
   "file_extension": ".py",
   "mimetype": "text/x-python",
   "name": "python",
   "nbconvert_exporter": "python",
   "pygments_lexer": "ipython3",
   "version": "3.10.0"
  }
 },
 "nbformat": 4,
 "nbformat_minor": 5
}
