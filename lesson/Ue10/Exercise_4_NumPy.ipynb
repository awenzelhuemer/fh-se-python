{
 "cells": [
  {
   "cell_type": "markdown",
   "metadata": {},
   "source": [
    "## Exercises NumPy"
   ]
  },
  {
   "cell_type": "markdown",
   "metadata": {},
   "source": [
    "### NumPy"
   ]
  },
  {
   "cell_type": "markdown",
   "metadata": {},
   "source": [
    "Please solve the following exercises. If necessary provide test cases:\\\n",
    "a) Create a NumPy Array \"a\" of size 50 with random numbers between 0 and 100.\\\n",
    "b) Create a NumPy Array \"b\" of size 10*10 with random numbers less than 0.\\\n",
    "c) Calculate the sum and average of each column and each row of \"b\".\\\n",
    "d) Print all values of \"a\" that are greater than 1 but smaller than 6. How many percent of the numbers are in that range?\\\n",
    "e) Create a NumPy Array \"c\" of size 30 with the repeating sequence \"1, 2, 3, 4\".\\\n",
    "f) Create a 3×3 NumPy Array \"d\" of all True’s\\\n",
    "g) Extract all odd numbers from \"a\".\\\n",
    "h) Write a NumPy program to get the powers of an array values element-wise. (First element to the power of the second element, second element to the power of the third element, ...).\\\n",
    "i) Write a NumPy program to multiply a 5x3 matrix by a 3x2 matrix and create a real matrix product.\\\n",
    "j) Write a NumPy program to convert angles from degrees to radians for all elements in a given array.\\\n",
    "k) Find all the peaks in \"a\". Peaks are points surrounded by smaller values on both sides.\\\n",
    "l) Given an array of a non-continuous sequence of dates. Make it a continuous sequence of dates, by filling in the missing dates.\\\n",
    "m) Create a rank array of the same shape as \"b\".\\\n",
    "n) Write a function that has a 2D array as input parameter. If this matrix is squared and its shape is a square number return sliced arrays (horizontal and vertical) with size of the square root of the dimenstions. If this matrix is not squared return an information why the operation could not be performed.\\\n",
    "o) Provide an overview of the frequency of each number of \"b\".\\\n",
    "p) Solve the system of equations:\\\n",
    "$$4x + 3y + 2z = 25$$\n",
    "$$-2x + 2y + 3z = -10$$\n",
    "$$3x -5y + 2z = -4$$"
   ]
  },
  {
   "cell_type": "markdown",
   "metadata": {},
   "source": [
    "Data for exercise l)"
   ]
  },
  {
   "cell_type": "code",
   "execution_count": 2,
   "metadata": {},
   "outputs": [
    {
     "data": {
      "text/plain": [
       "array(['2020-04-01', '2020-04-03', '2020-04-05', '2020-04-07',\n",
       "       '2020-04-09', '2020-04-11', '2020-04-13', '2020-04-15',\n",
       "       '2020-04-17', '2020-04-19', '2020-04-21', '2020-04-23',\n",
       "       '2020-04-25', '2020-04-27', '2020-04-29'], dtype='datetime64[D]')"
      ]
     },
     "execution_count": 2,
     "metadata": {},
     "output_type": "execute_result"
    }
   ],
   "source": [
    "import numpy as np\n",
    "dates = np.arange(np.datetime64('2020-04-01'), np.datetime64('2020-04-30'), 2)\n",
    "dates"
   ]
  },
  {
   "cell_type": "code",
   "execution_count": 25,
   "metadata": {},
   "outputs": [
    {
     "data": {
      "text/plain": [
       "array([  7,  80,  64,  98,   8,  60,  39,  66,  42,   4,  54,  28,  48,\n",
       "        85,  28,  85,  41,  76,  55,  70,  53,  17,  89,  31,  23,  27,\n",
       "         0,  84,  85,  39,  14,  56,  44,  98,  22, 100,  58,  80,  84,\n",
       "        61,  45,  14,  98,  67,  26,  44,  24,  11,  94,  19])"
      ]
     },
     "execution_count": 25,
     "metadata": {},
     "output_type": "execute_result"
    }
   ],
   "source": [
    "# a)\n",
    "a = np.random.randint(0,101, 50)  \n",
    "a"
   ]
  },
  {
   "cell_type": "code",
   "execution_count": 7,
   "metadata": {},
   "outputs": [
    {
     "data": {
      "text/plain": [
       "array([[ -95,  -17,  -82,  -78,  -21,   -7,  -58,  -47,  -78,  -44],\n",
       "       [ -39,  -65,  -87,  -27,  -90,  -50,  -21,  -15,  -99,  -13],\n",
       "       [  -7,  -59,  -20, -100,  -10,  -70,  -34,   -3,  -68,  -15],\n",
       "       [ -62,  -78,  -18,  -97,   -5,  -90,  -85,   -3,  -84,    0],\n",
       "       [ -50,  -35,  -88,  -31,  -20,  -88,  -60,  -88,  -65,  -94],\n",
       "       [ -46,  -59,  -32,  -99,  -21,   -8, -100,  -25,  -45,  -45],\n",
       "       [ -68,  -83,  -58,  -82,  -92,  -36,  -99,  -40,   -5,   -2],\n",
       "       [ -84,  -61,  -42,  -35,  -70,   -1,  -38,  -18,  -89,  -74],\n",
       "       [ -63,  -32,  -85,  -76,  -33,  -93,  -92,  -58,  -80,   -2],\n",
       "       [ -48,  -58,   -4,  -47,  -83,  -42,  -24,  -86,  -55,   -2]])"
      ]
     },
     "execution_count": 7,
     "metadata": {},
     "output_type": "execute_result"
    }
   ],
   "source": [
    "# b)\n",
    "b = np.random.rand(-100, 1, size=(10,10))\n",
    "b"
   ]
  },
  {
   "cell_type": "code",
   "execution_count": 24,
   "metadata": {},
   "outputs": [
    {
     "name": "stdout",
     "output_type": "stream",
     "text": [
      "[18 16 19]\n",
      "[9.  8.  9.5]\n"
     ]
    }
   ],
   "source": [
    "# c)\n",
    "sum_column = np.sum(b, axis=1)\n",
    "print(sum_column)\n",
    "avg_column = np.average(b, axis=1)\n",
    "print(avg_column)"
   ]
  },
  {
   "cell_type": "code",
   "execution_count": 23,
   "metadata": {},
   "outputs": [
    {
     "name": "stdout",
     "output_type": "stream",
     "text": [
      "[25 28]\n",
      "[8.33333333 9.33333333]\n"
     ]
    }
   ],
   "source": [
    "sum_row = np.sum(b, axis=0)\n",
    "print(sum_row)\n",
    "avg_row = np.average(b, axis=0)\n",
    "print(avg_row)"
   ]
  },
  {
   "cell_type": "code",
   "execution_count": 30,
   "metadata": {},
   "outputs": [
    {
     "name": "stdout",
     "output_type": "stream",
     "text": [
      "[4]\n",
      "0.02\n"
     ]
    }
   ],
   "source": [
    "# d)\n",
    "d = a[(a > 1) & (a < 6)]\n",
    "\n",
    "print(d)\n",
    "print(len(d) / len(a))"
   ]
  },
  {
   "cell_type": "code",
   "execution_count": 32,
   "metadata": {},
   "outputs": [
    {
     "data": {
      "text/plain": [
       "array([1, 2, 3, 4, 1, 2, 3, 4, 1, 2, 3, 4, 1, 2, 3, 4, 1, 2, 3, 4, 1, 2,\n",
       "       3, 4, 1, 2, 3, 4, 1, 2])"
      ]
     },
     "execution_count": 32,
     "metadata": {},
     "output_type": "execute_result"
    }
   ],
   "source": [
    "# e)\n",
    "np.resize(np.arange(1,5), 30)"
   ]
  },
  {
   "cell_type": "code",
   "execution_count": 34,
   "metadata": {},
   "outputs": [
    {
     "name": "stdout",
     "output_type": "stream",
     "text": [
      "[[ True  True  True]\n",
      " [ True  True  True]\n",
      " [ True  True  True]]\n"
     ]
    }
   ],
   "source": [
    "# f)\n",
    "d = np.full((3,3), True)\n",
    "print(d)"
   ]
  },
  {
   "cell_type": "code",
   "execution_count": 35,
   "metadata": {},
   "outputs": [
    {
     "data": {
      "text/plain": [
       "array([ 7, 39, 85, 85, 41, 55, 53, 17, 89, 31, 23, 27, 85, 39, 61, 45, 67,\n",
       "       11, 19])"
      ]
     },
     "execution_count": 35,
     "metadata": {},
     "output_type": "execute_result"
    }
   ],
   "source": [
    "# g)\n",
    "a[a % 2 == 1]"
   ]
  },
  {
   "cell_type": "code",
   "execution_count": 39,
   "metadata": {},
   "outputs": [
    {
     "data": {
      "text/plain": [
       "array([   0,    1,    8,   81, 1024,    1], dtype=int32)"
      ]
     },
     "execution_count": 39,
     "metadata": {},
     "output_type": "execute_result"
    }
   ],
   "source": [
    "# h)\n",
    "elements = np.array([0,1,2,3,4,5])\n",
    "np.power(elements, np.roll(elements,-1))"
   ]
  },
  {
   "cell_type": "code",
   "execution_count": 41,
   "metadata": {},
   "outputs": [
    {
     "data": {
      "text/plain": [
       "array([[0.54731893, 1.00618086],\n",
       "       [0.28239677, 0.72087261],\n",
       "       [0.64357807, 1.01805307],\n",
       "       [0.37792061, 0.702938  ],\n",
       "       [0.48417306, 0.40805254]])"
      ]
     },
     "execution_count": 41,
     "metadata": {},
     "output_type": "execute_result"
    }
   ],
   "source": [
    "# i)\n",
    "x1 = np.random.random((5,3))\n",
    "x2 = np.random.random((3,2))\n",
    "np.matmul(x1, x2)"
   ]
  },
  {
   "cell_type": "code",
   "execution_count": 43,
   "metadata": {},
   "outputs": [
    {
     "data": {
      "text/plain": [
       "array([1.57079633, 3.14159265, 4.71238898])"
      ]
     },
     "execution_count": 43,
     "metadata": {},
     "output_type": "execute_result"
    }
   ],
   "source": [
    "# j)\n",
    "def deg2rad(degs):\n",
    "    return np.deg2rad(degs)\n",
    "    \n",
    "deg2rad(np.array([90, 180, 270]))"
   ]
  },
  {
   "cell_type": "code",
   "execution_count": 46,
   "metadata": {},
   "outputs": [
    {
     "name": "stdout",
     "output_type": "stream",
     "text": [
      "Peak: 80 at 1\n",
      "Peak: 98 at 3\n",
      "Peak: 60 at 5\n",
      "Peak: 66 at 7\n",
      "Peak: 54 at 10\n",
      "Peak: 85 at 13\n",
      "Peak: 85 at 15\n",
      "Peak: 76 at 17\n",
      "Peak: 70 at 19\n",
      "Peak: 89 at 22\n",
      "Peak: 27 at 25\n",
      "Peak: 85 at 28\n",
      "Peak: 56 at 31\n",
      "Peak: 98 at 33\n",
      "Peak: 100 at 35\n",
      "Peak: 84 at 38\n",
      "Peak: 98 at 42\n",
      "Peak: 44 at 45\n",
      "Peak: 94 at 48\n"
     ]
    }
   ],
   "source": [
    "# k)\n",
    "for i in range(len(a)):\n",
    "    if a[(i-1) % len(a)] < a[i] and a[i] > a[(i + 1) % len(a)]:\n",
    "        print(\"Peak:\", a[i], \"at\", i)"
   ]
  },
  {
   "cell_type": "code",
   "execution_count": 47,
   "metadata": {},
   "outputs": [
    {
     "data": {
      "text/plain": [
       "array(['2020-04-01', '2020-04-02', '2020-04-03', '2020-04-04',\n",
       "       '2020-04-05', '2020-04-06', '2020-04-07', '2020-04-08',\n",
       "       '2020-04-09', '2020-04-10', '2020-04-11', '2020-04-12',\n",
       "       '2020-04-13', '2020-04-14', '2020-04-15', '2020-04-16',\n",
       "       '2020-04-17', '2020-04-18', '2020-04-19', '2020-04-20',\n",
       "       '2020-04-21', '2020-04-22', '2020-04-23', '2020-04-24',\n",
       "       '2020-04-25', '2020-04-26', '2020-04-27', '2020-04-28'],\n",
       "      dtype='datetime64[D]')"
      ]
     },
     "execution_count": 47,
     "metadata": {},
     "output_type": "execute_result"
    }
   ],
   "source": [
    "# l)\n",
    "t = np.arange(min(dates), max(dates), dtype='datetime64[D]')\n",
    "t"
   ]
  },
  {
   "cell_type": "code",
   "execution_count": null,
   "metadata": {},
   "outputs": [],
   "source": [
    "# m)"
   ]
  },
  {
   "cell_type": "code",
   "execution_count": null,
   "metadata": {},
   "outputs": [],
   "source": [
    "# n)"
   ]
  },
  {
   "cell_type": "code",
   "execution_count": 50,
   "metadata": {},
   "outputs": [
    {
     "name": "stdout",
     "output_type": "stream",
     "text": [
      "[-10  -4  25]: [1 1 1]\n"
     ]
    }
   ],
   "source": [
    "# o)\n",
    "a, counts = np.unique(b, return_counts = True)\n",
    "print(f'{a}: {counts}')"
   ]
  },
  {
   "cell_type": "code",
   "execution_count": 51,
   "metadata": {},
   "outputs": [
    {
     "data": {
      "text/plain": [
       "array([ 5.,  3., -2.])"
      ]
     },
     "execution_count": 51,
     "metadata": {},
     "output_type": "execute_result"
    }
   ],
   "source": [
    "# p)\n",
    "x1 = np.array([[4, 3, 2], [-2, 2, 3], [3, -5, 2]])\n",
    "x2 = np.array([25, -10, -4])\n",
    "np.linalg.solve(x1, x2)"
   ]
  }
 ],
 "metadata": {
  "kernelspec": {
   "display_name": "Python 3 (ipykernel)",
   "language": "python",
   "name": "python3"
  },
  "language_info": {
   "codemirror_mode": {
    "name": "ipython",
    "version": 3
   },
   "file_extension": ".py",
   "mimetype": "text/x-python",
   "name": "python",
   "nbconvert_exporter": "python",
   "pygments_lexer": "ipython3",
   "version": "3.10.0"
  }
 },
 "nbformat": 4,
 "nbformat_minor": 4
}
