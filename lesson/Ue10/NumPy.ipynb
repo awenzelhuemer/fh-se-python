{
 "cells": [
  {
   "cell_type": "markdown",
   "id": "60132639-e76d-4184-a635-54a21b9e6527",
   "metadata": {},
   "source": [
    "# NumPy"
   ]
  },
  {
   "cell_type": "code",
   "execution_count": 1,
   "id": "d2292372-1354-4c61-b01b-7eb1e464e95f",
   "metadata": {},
   "outputs": [],
   "source": [
    "import numpy as np"
   ]
  },
  {
   "cell_type": "markdown",
   "id": "dd5fdb19-f1d0-4d1d-be7c-ae0586509574",
   "metadata": {},
   "source": [
    "## 1. Data types in NumPy"
   ]
  },
  {
   "cell_type": "markdown",
   "id": "47d6f226-00bc-46ea-bb35-a295b66d3dc0",
   "metadata": {},
   "source": [
    "### a) 1-D Array:"
   ]
  },
  {
   "cell_type": "code",
   "execution_count": 3,
   "id": "bb9633e1-3a67-4e43-9445-159ef6337602",
   "metadata": {},
   "outputs": [
    {
     "data": {
      "text/plain": [
       "array([1, 2, 3])"
      ]
     },
     "execution_count": 3,
     "metadata": {},
     "output_type": "execute_result"
    }
   ],
   "source": [
    "od = np.array([1, 2, 3])\n",
    "od"
   ]
  },
  {
   "cell_type": "code",
   "execution_count": 4,
   "id": "4eba4cd8-af3c-440f-8b58-a94b5cc804cd",
   "metadata": {},
   "outputs": [
    {
     "data": {
      "text/plain": [
       "numpy.ndarray"
      ]
     },
     "execution_count": 4,
     "metadata": {},
     "output_type": "execute_result"
    }
   ],
   "source": [
    "type(od)"
   ]
  },
  {
   "cell_type": "code",
   "execution_count": 6,
   "id": "3c19bf24-f1ce-4b96-a644-a835be20599e",
   "metadata": {},
   "outputs": [
    {
     "data": {
      "text/plain": [
       "array([[1, 2, 3]])"
      ]
     },
     "execution_count": 6,
     "metadata": {},
     "output_type": "execute_result"
    }
   ],
   "source": [
    "od2 = np.array([[1, 2, 3]])\n",
    "od2"
   ]
  },
  {
   "cell_type": "code",
   "execution_count": 7,
   "id": "939a6866-a9ff-44bf-a38b-01c618a71944",
   "metadata": {},
   "outputs": [
    {
     "data": {
      "text/plain": [
       "array(['a', 'b', 'c'], dtype='<U1')"
      ]
     },
     "execution_count": 7,
     "metadata": {},
     "output_type": "execute_result"
    }
   ],
   "source": [
    "ods = np.array(['a', 'b', 'c'])\n",
    "ods"
   ]
  },
  {
   "cell_type": "code",
   "execution_count": 9,
   "id": "033d7533-9033-4da6-b260-2db65b1173a4",
   "metadata": {},
   "outputs": [
    {
     "data": {
      "text/plain": [
       "array(['1', 'a'], dtype='<U11')"
      ]
     },
     "execution_count": 9,
     "metadata": {},
     "output_type": "execute_result"
    }
   ],
   "source": [
    "odm = np.array([1, 'a'])\n",
    "odm"
   ]
  },
  {
   "cell_type": "code",
   "execution_count": 12,
   "id": "07760b30-eb5e-4588-b143-379cf7528ba5",
   "metadata": {},
   "outputs": [],
   "source": [
    "type(odm[0]);"
   ]
  },
  {
   "cell_type": "markdown",
   "id": "d916dcf6-6ae6-4892-b9b0-01a98a2d3a30",
   "metadata": {},
   "source": [
    "### b) 2-D Array"
   ]
  },
  {
   "cell_type": "code",
   "execution_count": 13,
   "id": "419841b9-49e8-4d24-a39f-f56370954a6a",
   "metadata": {},
   "outputs": [
    {
     "data": {
      "text/plain": [
       "array([[1, 2, 3],\n",
       "       [4, 5, 6]])"
      ]
     },
     "execution_count": 13,
     "metadata": {},
     "output_type": "execute_result"
    }
   ],
   "source": [
    "td = np.array([[1, 2, 3], [4, 5, 6]])\n",
    "td"
   ]
  },
  {
   "cell_type": "code",
   "execution_count": 14,
   "id": "e5c48b72-85da-4e05-af00-d3759be28695",
   "metadata": {},
   "outputs": [
    {
     "data": {
      "text/plain": [
       "2"
      ]
     },
     "execution_count": 14,
     "metadata": {},
     "output_type": "execute_result"
    }
   ],
   "source": [
    "td[0,1]"
   ]
  },
  {
   "cell_type": "markdown",
   "id": "28b34e64-8ab0-4979-97da-354dac5913a7",
   "metadata": {},
   "source": [
    "### c) Special Arrays"
   ]
  },
  {
   "cell_type": "code",
   "execution_count": 16,
   "id": "c672468d-fc8d-4b1b-b389-9492e426f8a4",
   "metadata": {},
   "outputs": [
    {
     "data": {
      "text/plain": [
       "array([0., 0.])"
      ]
     },
     "execution_count": 16,
     "metadata": {},
     "output_type": "execute_result"
    }
   ],
   "source": [
    "odz = np.zeros(2)\n",
    "odz"
   ]
  },
  {
   "cell_type": "code",
   "execution_count": 20,
   "id": "864a5421-4465-4251-a6be-2e84b1d1ce91",
   "metadata": {},
   "outputs": [
    {
     "data": {
      "text/plain": [
       "array([[1., 1.],\n",
       "       [1., 1.],\n",
       "       [1., 1.]])"
      ]
     },
     "execution_count": 20,
     "metadata": {},
     "output_type": "execute_result"
    }
   ],
   "source": [
    "tdo = np.ones((3, 2))\n",
    "tdo"
   ]
  },
  {
   "cell_type": "code",
   "execution_count": 22,
   "id": "5327316a-14cd-4803-8e57-1369be877fb5",
   "metadata": {},
   "outputs": [
    {
     "data": {
      "text/plain": [
       "array([[[6.23042070e-307, 1.86918699e-306, 1.69121096e-306],\n",
       "        [8.90104239e-307, 1.42417900e-306, 1.78019082e-306],\n",
       "        [1.37961913e-306, 6.23057349e-307, 1.02360935e-306]],\n",
       "\n",
       "       [[1.69120416e-306, 1.78022342e-306, 6.23058028e-307],\n",
       "        [1.06811422e-306, 9.45699680e-308, 1.11261027e-306],\n",
       "        [1.11261502e-306, 1.42410839e-306, 7.56597770e-307]],\n",
       "\n",
       "       [[6.23059726e-307, 1.42419530e-306, 1.37962185e-306],\n",
       "        [1.37962049e-306, 1.24610723e-306, 1.11260144e-306],\n",
       "        [6.89812281e-307, 2.22522596e-306, 0.00000000e+000]]])"
      ]
     },
     "execution_count": 22,
     "metadata": {},
     "output_type": "execute_result"
    }
   ],
   "source": [
    "nde = np.empty((3, 3, 3))\n",
    "nde"
   ]
  },
  {
   "cell_type": "code",
   "execution_count": 25,
   "id": "665aca84-8a30-434b-8d41-82705ab8d982",
   "metadata": {},
   "outputs": [
    {
     "data": {
      "text/plain": [
       "array([[[1, 2, 3, 4, 5],\n",
       "        [1, 2, 3, 4, 5],\n",
       "        [1, 2, 3, 4, 5],\n",
       "        [1, 2, 3, 4, 5]],\n",
       "\n",
       "       [[1, 2, 3, 4, 5],\n",
       "        [1, 2, 3, 4, 5],\n",
       "        [1, 2, 3, 4, 5],\n",
       "        [1, 2, 3, 4, 5]],\n",
       "\n",
       "       [[1, 2, 3, 4, 5],\n",
       "        [1, 2, 3, 4, 5],\n",
       "        [1, 2, 3, 4, 5],\n",
       "        [1, 2, 3, 4, 5]]])"
      ]
     },
     "execution_count": 25,
     "metadata": {},
     "output_type": "execute_result"
    }
   ],
   "source": [
    "ndf = np.full((3, 4, 5), [1, 2, 3, 4, 5])\n",
    "ndf"
   ]
  },
  {
   "cell_type": "markdown",
   "id": "3dd24cdd-df21-4575-aa13-5e61cc17949c",
   "metadata": {},
   "source": [
    "## 2. Indexing and Slicing"
   ]
  },
  {
   "cell_type": "markdown",
   "id": "c21ae709-05a6-4993-9cb1-08a85eee6e75",
   "metadata": {},
   "source": [
    "### a) 1-D"
   ]
  },
  {
   "cell_type": "code",
   "execution_count": 26,
   "id": "16db8581-db74-40d5-a7aa-d39021377c82",
   "metadata": {},
   "outputs": [],
   "source": [
    "data = [2, 5, 6, 3, 5, 6]"
   ]
  },
  {
   "cell_type": "code",
   "execution_count": 27,
   "id": "11d86998-f34d-4391-8d2d-89a5a2ec89c9",
   "metadata": {},
   "outputs": [
    {
     "data": {
      "text/plain": [
       "5"
      ]
     },
     "execution_count": 27,
     "metadata": {},
     "output_type": "execute_result"
    }
   ],
   "source": [
    "data[1]"
   ]
  },
  {
   "cell_type": "code",
   "execution_count": 28,
   "id": "4f291f85-e2ed-4a35-9b6e-de6333009d63",
   "metadata": {},
   "outputs": [
    {
     "data": {
      "text/plain": [
       "[6, 3]"
      ]
     },
     "execution_count": 28,
     "metadata": {},
     "output_type": "execute_result"
    }
   ],
   "source": [
    "data[2:4]"
   ]
  },
  {
   "cell_type": "code",
   "execution_count": 29,
   "id": "e85be532-b7de-431b-95ba-b092f30614d8",
   "metadata": {},
   "outputs": [
    {
     "data": {
      "text/plain": [
       "[6, 3, 5, 6]"
      ]
     },
     "execution_count": 29,
     "metadata": {},
     "output_type": "execute_result"
    }
   ],
   "source": [
    "data[2:]"
   ]
  },
  {
   "cell_type": "code",
   "execution_count": 30,
   "id": "c3bd750c-2d81-4e6d-9da1-704df3e1d961",
   "metadata": {},
   "outputs": [
    {
     "data": {
      "text/plain": [
       "[2, 5, 6, 3]"
      ]
     },
     "execution_count": 30,
     "metadata": {},
     "output_type": "execute_result"
    }
   ],
   "source": [
    "data[:-2]"
   ]
  },
  {
   "cell_type": "markdown",
   "id": "092781dc-b420-420c-b4bc-3a86589bf8a9",
   "metadata": {},
   "source": [
    "### 2-D)"
   ]
  },
  {
   "cell_type": "code",
   "execution_count": 31,
   "id": "05ac74db-7541-4b31-b584-6ad34ac5043e",
   "metadata": {},
   "outputs": [
    {
     "data": {
      "text/plain": [
       "array([[1, 2, 3],\n",
       "       [4, 5, 6]])"
      ]
     },
     "execution_count": 31,
     "metadata": {},
     "output_type": "execute_result"
    }
   ],
   "source": [
    "td"
   ]
  },
  {
   "cell_type": "code",
   "execution_count": 32,
   "id": "8a897c15-1897-4b56-979f-d579a3e7b0ef",
   "metadata": {},
   "outputs": [
    {
     "data": {
      "text/plain": [
       "array([4, 5, 6])"
      ]
     },
     "execution_count": 32,
     "metadata": {},
     "output_type": "execute_result"
    }
   ],
   "source": [
    "td[1]"
   ]
  },
  {
   "cell_type": "code",
   "execution_count": 33,
   "id": "45707c01-696f-4402-a58b-58a36f5e17c8",
   "metadata": {},
   "outputs": [
    {
     "data": {
      "text/plain": [
       "6"
      ]
     },
     "execution_count": 33,
     "metadata": {},
     "output_type": "execute_result"
    }
   ],
   "source": [
    "td[1, 2]"
   ]
  },
  {
   "cell_type": "code",
   "execution_count": 34,
   "id": "03dc073b-0ac5-4727-9d09-703081f68913",
   "metadata": {},
   "outputs": [
    {
     "data": {
      "text/plain": [
       "array([2, 5])"
      ]
     },
     "execution_count": 34,
     "metadata": {},
     "output_type": "execute_result"
    }
   ],
   "source": [
    "td[:, 1]"
   ]
  },
  {
   "cell_type": "code",
   "execution_count": 35,
   "id": "16c1bc72-26fa-4299-b222-7091a92f5ae9",
   "metadata": {},
   "outputs": [
    {
     "data": {
      "text/plain": [
       "6"
      ]
     },
     "execution_count": 35,
     "metadata": {},
     "output_type": "execute_result"
    }
   ],
   "source": [
    "td[-1, -1]"
   ]
  },
  {
   "cell_type": "markdown",
   "id": "310f017a-5014-4f97-a5d8-4d705545021e",
   "metadata": {},
   "source": [
    "## 3. Adding, removing and sorting elements"
   ]
  },
  {
   "cell_type": "markdown",
   "id": "2b7f7558-1152-496f-82c6-44b60cdfe6a9",
   "metadata": {},
   "source": [
    "## a) Adding - np.append()"
   ]
  },
  {
   "cell_type": "markdown",
   "id": "b7559cda-9a4e-4d72-9501-10d51e270688",
   "metadata": {},
   "source": [
    "#### 1-D Arrays"
   ]
  },
  {
   "cell_type": "code",
   "execution_count": 36,
   "id": "bc4fb4a3-bbe6-42ea-b6b6-850cfa4b55c2",
   "metadata": {},
   "outputs": [
    {
     "data": {
      "text/plain": [
       "array([1, 2, 3])"
      ]
     },
     "execution_count": 36,
     "metadata": {},
     "output_type": "execute_result"
    }
   ],
   "source": [
    "od"
   ]
  },
  {
   "cell_type": "code",
   "execution_count": 39,
   "id": "f4ef20c1-a5c2-4c81-9a6a-9dc8b53eb6e7",
   "metadata": {},
   "outputs": [
    {
     "data": {
      "text/plain": [
       "array([1, 2, 3, 1, 5, 4])"
      ]
     },
     "execution_count": 39,
     "metadata": {},
     "output_type": "execute_result"
    }
   ],
   "source": [
    "np.append(od, [1, 5, 4])"
   ]
  },
  {
   "cell_type": "code",
   "execution_count": 40,
   "id": "2c575a2e-01bf-4a55-a807-db04dfbb3549",
   "metadata": {},
   "outputs": [
    {
     "data": {
      "text/plain": [
       "array([4, 5, 6])"
      ]
     },
     "execution_count": 40,
     "metadata": {},
     "output_type": "execute_result"
    }
   ],
   "source": [
    "td[1]"
   ]
  },
  {
   "cell_type": "code",
   "execution_count": 38,
   "id": "4110f935-764e-4c54-bbbd-1430bd2c91ee",
   "metadata": {},
   "outputs": [
    {
     "data": {
      "text/plain": [
       "array([1, 2, 3, 1, 2, 3, 4, 5, 6])"
      ]
     },
     "execution_count": 38,
     "metadata": {},
     "output_type": "execute_result"
    }
   ],
   "source": [
    "np.append(od, [od, td[1]])"
   ]
  },
  {
   "cell_type": "code",
   "execution_count": 41,
   "id": "f3f61840-e42c-4ec3-8363-ecba21df2e9d",
   "metadata": {},
   "outputs": [],
   "source": [
    "l1 = [1, 2, 3]\n",
    "l2 = [4, 5, 6]"
   ]
  },
  {
   "cell_type": "code",
   "execution_count": 42,
   "id": "26ea36ce-a009-491f-badc-209497134358",
   "metadata": {},
   "outputs": [
    {
     "data": {
      "text/plain": [
       "[1, 2, 3, 4, 5, 6]"
      ]
     },
     "execution_count": 42,
     "metadata": {},
     "output_type": "execute_result"
    }
   ],
   "source": [
    "l1 + l2"
   ]
  },
  {
   "cell_type": "code",
   "execution_count": 43,
   "id": "b4b4d9f5-6f6f-49f6-809b-b3ef64e13f3f",
   "metadata": {},
   "outputs": [
    {
     "data": {
      "text/plain": [
       "array([2, 4, 6])"
      ]
     },
     "execution_count": 43,
     "metadata": {},
     "output_type": "execute_result"
    }
   ],
   "source": [
    "od + od"
   ]
  },
  {
   "cell_type": "markdown",
   "id": "698afd1f-b46c-43eb-8857-9d67c922f50d",
   "metadata": {},
   "source": [
    "#### 2-D Arrays"
   ]
  },
  {
   "cell_type": "code",
   "execution_count": 44,
   "id": "9c24d147-0ebe-47e2-9d71-ed8278b308b3",
   "metadata": {},
   "outputs": [
    {
     "data": {
      "text/plain": [
       "array([[1, 2, 3],\n",
       "       [4, 5, 6]])"
      ]
     },
     "execution_count": 44,
     "metadata": {},
     "output_type": "execute_result"
    }
   ],
   "source": [
    "td"
   ]
  },
  {
   "cell_type": "code",
   "execution_count": 45,
   "id": "ccc172da-cae7-42c4-be74-65e7fdc687ed",
   "metadata": {},
   "outputs": [
    {
     "data": {
      "text/plain": [
       "array([1, 2, 3, 4, 5, 6, 7, 8])"
      ]
     },
     "execution_count": 45,
     "metadata": {},
     "output_type": "execute_result"
    }
   ],
   "source": [
    "np.append(td, [7, 8])"
   ]
  },
  {
   "cell_type": "code",
   "execution_count": 46,
   "id": "8742ea30-23e7-4f56-8696-91524d98aab2",
   "metadata": {},
   "outputs": [
    {
     "data": {
      "text/plain": [
       "array([[1, 2, 3],\n",
       "       [4, 5, 6],\n",
       "       [7, 8, 9]])"
      ]
     },
     "execution_count": 46,
     "metadata": {},
     "output_type": "execute_result"
    }
   ],
   "source": [
    "np.append(td, [[7, 8, 9]], axis=0)"
   ]
  },
  {
   "cell_type": "code",
   "execution_count": 51,
   "id": "ce288773-339c-479e-930a-1cd818721227",
   "metadata": {},
   "outputs": [
    {
     "data": {
      "text/plain": [
       "array([[1, 2, 3, 7],\n",
       "       [4, 5, 6, 8]])"
      ]
     },
     "execution_count": 51,
     "metadata": {},
     "output_type": "execute_result"
    }
   ],
   "source": [
    "np.append(td, [[7], [8]], axis=1)"
   ]
  },
  {
   "cell_type": "markdown",
   "id": "01b66510-86c8-4873-af21-d2b2380cc149",
   "metadata": {},
   "source": [
    "### c) Removing"
   ]
  },
  {
   "cell_type": "code",
   "execution_count": 52,
   "id": "38669509-dd0f-45ae-a67d-8063bf2a517c",
   "metadata": {},
   "outputs": [],
   "source": [
    "odrem = [1, 5, 3, 7, 8, 3, 5]"
   ]
  },
  {
   "cell_type": "code",
   "execution_count": 53,
   "id": "50faa712-b8b5-4080-bac5-d5dea754bfbb",
   "metadata": {},
   "outputs": [
    {
     "data": {
      "text/plain": [
       "array([5, 3, 7, 8, 3, 5])"
      ]
     },
     "execution_count": 53,
     "metadata": {},
     "output_type": "execute_result"
    }
   ],
   "source": [
    "np.delete(odrem, 0)"
   ]
  },
  {
   "cell_type": "code",
   "execution_count": 54,
   "id": "1a50aac9-0c0d-4744-81f3-23eea44b9c9b",
   "metadata": {},
   "outputs": [
    {
     "data": {
      "text/plain": [
       "[1, 5, 3, 7, 8, 3, 5]"
      ]
     },
     "execution_count": 54,
     "metadata": {},
     "output_type": "execute_result"
    }
   ],
   "source": [
    "odrem"
   ]
  },
  {
   "cell_type": "code",
   "execution_count": 55,
   "id": "8faeda4e-74a4-4353-a9b4-5d1099c26baf",
   "metadata": {},
   "outputs": [
    {
     "data": {
      "text/plain": [
       "array([1, 5, 7, 8])"
      ]
     },
     "execution_count": 55,
     "metadata": {},
     "output_type": "execute_result"
    }
   ],
   "source": [
    "np.delete(odrem, [2, 5, 6])"
   ]
  },
  {
   "cell_type": "code",
   "execution_count": 56,
   "id": "0885e90e-c6b4-48be-b8f6-95810f86d5db",
   "metadata": {},
   "outputs": [
    {
     "data": {
      "text/plain": [
       "array([[1, 2, 3],\n",
       "       [4, 5, 6]])"
      ]
     },
     "execution_count": 56,
     "metadata": {},
     "output_type": "execute_result"
    }
   ],
   "source": [
    "td"
   ]
  },
  {
   "cell_type": "code",
   "execution_count": 57,
   "id": "f2d6005a-f58a-4e94-a60c-3ea77584569a",
   "metadata": {},
   "outputs": [
    {
     "data": {
      "text/plain": [
       "array([[1, 3],\n",
       "       [4, 6]])"
      ]
     },
     "execution_count": 57,
     "metadata": {},
     "output_type": "execute_result"
    }
   ],
   "source": [
    "np.delete(td, 1, axis=1)"
   ]
  },
  {
   "cell_type": "code",
   "execution_count": 58,
   "id": "4f4ceeeb-bb91-4bc3-8016-13b475af84a8",
   "metadata": {},
   "outputs": [
    {
     "data": {
      "text/plain": [
       "array([[1, 2, 3]])"
      ]
     },
     "execution_count": 58,
     "metadata": {},
     "output_type": "execute_result"
    }
   ],
   "source": [
    "np.delete(td, 1, axis=0)"
   ]
  },
  {
   "cell_type": "markdown",
   "id": "39dc360d-b8d7-4915-b5a0-3b50953f1e31",
   "metadata": {},
   "source": [
    "## 4. Shape manimulation "
   ]
  },
  {
   "cell_type": "markdown",
   "id": "dfa54281-5a67-4419-8106-dac911488385",
   "metadata": {},
   "source": [
    "### a) Shape if array"
   ]
  },
  {
   "cell_type": "code",
   "execution_count": 61,
   "id": "ed7394e3-392a-42e8-965e-0a3914fc9a3d",
   "metadata": {},
   "outputs": [],
   "source": [
    "data1 = np.array([[1,2,3], [4,5,6]])\n",
    "data2 = np.array([[7,8,9], [10,11,12]])"
   ]
  },
  {
   "cell_type": "code",
   "execution_count": 62,
   "id": "9cd26200-ab92-4c8b-b242-a24e62e3c0e7",
   "metadata": {},
   "outputs": [
    {
     "data": {
      "text/plain": [
       "array([[1, 2, 3],\n",
       "       [4, 5, 6]])"
      ]
     },
     "execution_count": 62,
     "metadata": {},
     "output_type": "execute_result"
    }
   ],
   "source": [
    "data1"
   ]
  },
  {
   "cell_type": "code",
   "execution_count": 63,
   "id": "89f606d3-09f0-409d-8905-bb7e226a0816",
   "metadata": {},
   "outputs": [
    {
     "data": {
      "text/plain": [
       "array([[ 7,  8,  9],\n",
       "       [10, 11, 12]])"
      ]
     },
     "execution_count": 63,
     "metadata": {},
     "output_type": "execute_result"
    }
   ],
   "source": [
    "data2"
   ]
  },
  {
   "cell_type": "code",
   "execution_count": 64,
   "id": "4819c159-495b-4861-8887-44a7825f2eab",
   "metadata": {},
   "outputs": [
    {
     "data": {
      "text/plain": [
       "(2, 3)"
      ]
     },
     "execution_count": 64,
     "metadata": {},
     "output_type": "execute_result"
    }
   ],
   "source": [
    "data1.shape"
   ]
  },
  {
   "cell_type": "code",
   "execution_count": 67,
   "id": "04a7694a-43fe-4590-a8cd-db3a9b34f6a9",
   "metadata": {},
   "outputs": [],
   "source": [
    "# data_rs = data[0]"
   ]
  },
  {
   "cell_type": "code",
   "execution_count": 68,
   "id": "69433194-8ed3-4b02-bbe9-5b25bf5823de",
   "metadata": {},
   "outputs": [
    {
     "data": {
      "text/plain": [
       "(3,)"
      ]
     },
     "execution_count": 68,
     "metadata": {},
     "output_type": "execute_result"
    }
   ],
   "source": [
    "data_rs.shape"
   ]
  },
  {
   "cell_type": "code",
   "execution_count": 70,
   "id": "447e22d1-b057-44ee-8ce7-913532899884",
   "metadata": {},
   "outputs": [],
   "source": [
    "# data_rs.reshape(10, 2)"
   ]
  },
  {
   "cell_type": "markdown",
   "id": "974be1da-4973-4128-8013-86214d7c999d",
   "metadata": {},
   "source": [
    "## 5. Basic operations and functions in NumPy"
   ]
  },
  {
   "cell_type": "code",
   "execution_count": 74,
   "id": "46aa585a-befb-4008-83ce-c4f77f13fbeb",
   "metadata": {},
   "outputs": [],
   "source": [
    "data1 = np.array([3, 4, 6, 3])\n",
    "data2 = np.array([1, 4, 3, 2])"
   ]
  },
  {
   "cell_type": "code",
   "execution_count": 77,
   "id": "dfa35439-8f18-42a1-b2ff-5e32989150af",
   "metadata": {},
   "outputs": [
    {
     "data": {
      "text/plain": [
       "array([4, 8, 9, 5])"
      ]
     },
     "execution_count": 77,
     "metadata": {},
     "output_type": "execute_result"
    }
   ],
   "source": [
    "data1 + data2"
   ]
  },
  {
   "cell_type": "code",
   "execution_count": 74,
   "id": "5f3fad31-a00d-4953-b2f7-f6de2f9087a8",
   "metadata": {},
   "outputs": [],
   "source": [
    "data1 * data2"
   ]
  },
  {
   "cell_type": "code",
   "execution_count": 75,
   "id": "85ee6865-1910-4b94-bb67-1e8887a09924",
   "metadata": {},
   "outputs": [
    {
     "data": {
      "text/plain": [
       "array([3. , 1. , 2. , 1.5])"
      ]
     },
     "execution_count": 75,
     "metadata": {},
     "output_type": "execute_result"
    }
   ],
   "source": [
    "data1 / data2"
   ]
  },
  {
   "cell_type": "markdown",
   "id": "fbd4ff59-c9a3-4e54-a822-bdbbf870bf28",
   "metadata": {},
   "source": [
    "### b) Upcasting"
   ]
  },
  {
   "cell_type": "code",
   "execution_count": 81,
   "id": "5e594385-6ea9-4e61-8e13-518f2a1c6a7c",
   "metadata": {},
   "outputs": [
    {
     "data": {
      "text/plain": [
       "array([4. , 0. , 9.1, 1.1])"
      ]
     },
     "execution_count": 81,
     "metadata": {},
     "output_type": "execute_result"
    }
   ],
   "source": [
    "data3 = np.array([4., 4-4, 9.1, 1.1])\n",
    "data3"
   ]
  },
  {
   "cell_type": "code",
   "execution_count": 82,
   "id": "312269e7-e9d0-4536-a037-c6872f621e50",
   "metadata": {},
   "outputs": [
    {
     "data": {
      "text/plain": [
       "array([ 7. ,  4. , 15.1,  4.1])"
      ]
     },
     "execution_count": 82,
     "metadata": {},
     "output_type": "execute_result"
    }
   ],
   "source": [
    "data1 + data3"
   ]
  },
  {
   "cell_type": "code",
   "execution_count": 83,
   "id": "aad2972e-0b28-4ebe-9334-6b97c5be24f6",
   "metadata": {},
   "outputs": [
    {
     "data": {
      "text/plain": [
       "16"
      ]
     },
     "execution_count": 83,
     "metadata": {},
     "output_type": "execute_result"
    }
   ],
   "source": [
    "sum(data1)"
   ]
  },
  {
   "cell_type": "code",
   "execution_count": 85,
   "id": "3b290e4e-3357-424f-8697-63b785bdcaf2",
   "metadata": {},
   "outputs": [
    {
     "data": {
      "text/plain": [
       "16"
      ]
     },
     "execution_count": 85,
     "metadata": {},
     "output_type": "execute_result"
    }
   ],
   "source": [
    "np.sum(data1)"
   ]
  },
  {
   "cell_type": "markdown",
   "id": "483dc04f-09b2-4ce7-9843-cb5f1a2e3b2f",
   "metadata": {},
   "source": [
    "### d) Solving of equations"
   ]
  },
  {
   "cell_type": "markdown",
   "id": "1017c057-574a-47f1-94c4-eaf5e0c52811",
   "metadata": {},
   "source": [
    "Solve the system of equations:\n",
    "    \n",
    "$3x_0 + x_1 = 0$\n",
    "\n",
    "$x_0 + 2x_1 = 8$"
   ]
  },
  {
   "cell_type": "code",
   "execution_count": 87,
   "id": "ddcefd9b-c026-41a2-9033-db2bd6416249",
   "metadata": {},
   "outputs": [],
   "source": [
    "a = np.array([[3, 1], [1, 2]])\n",
    "b = np.array([9, 8])"
   ]
  },
  {
   "cell_type": "code",
   "execution_count": 89,
   "id": "0e9bb649-2c7d-4872-b381-fbd2d1cb263c",
   "metadata": {},
   "outputs": [
    {
     "data": {
      "text/plain": [
       "array([2., 3.])"
      ]
     },
     "execution_count": 89,
     "metadata": {},
     "output_type": "execute_result"
    }
   ],
   "source": [
    "x = np.linalg.solve(a, b)\n",
    "x"
   ]
  },
  {
   "cell_type": "markdown",
   "id": "576bb3b1-3f1a-4290-9bad-d600f942bedf",
   "metadata": {},
   "source": [
    "## 7. Speed Test"
   ]
  },
  {
   "cell_type": "code",
   "execution_count": 90,
   "id": "0593cffa-8bb5-4426-beb5-c8553b64dd22",
   "metadata": {},
   "outputs": [],
   "source": [
    "import sys"
   ]
  },
  {
   "cell_type": "markdown",
   "id": "c7da7279-3efd-4adc-96bb-a00d2d48a974",
   "metadata": {},
   "source": [
    "### a) Memory Size"
   ]
  },
  {
   "cell_type": "markdown",
   "id": "b87e1191-1015-4076-bf4d-cf7367878475",
   "metadata": {},
   "source": [
    "#### Array"
   ]
  },
  {
   "cell_type": "code",
   "execution_count": 91,
   "id": "d3b5bb8c-9753-4c53-b841-526f1d145fb0",
   "metadata": {},
   "outputs": [],
   "source": [
    "n = np.array([])"
   ]
  },
  {
   "cell_type": "code",
   "execution_count": 92,
   "id": "5c09b23f-f0e7-450c-b6da-15195383e09e",
   "metadata": {},
   "outputs": [
    {
     "data": {
      "text/plain": [
       "104"
      ]
     },
     "execution_count": 92,
     "metadata": {},
     "output_type": "execute_result"
    }
   ],
   "source": [
    "sys.getsizeof(n)"
   ]
  },
  {
   "cell_type": "code",
   "execution_count": 94,
   "id": "090a8a6c-8857-470e-81a4-4b99ffb95afc",
   "metadata": {},
   "outputs": [
    {
     "data": {
      "text/plain": [
       "\u001b[1;31mDocstring:\u001b[0m\n",
       "getsizeof(object [, default]) -> int\n",
       "\n",
       "Return the size of object in bytes.\n",
       "\u001b[1;31mType:\u001b[0m      builtin_function_or_method\n"
      ]
     },
     "metadata": {},
     "output_type": "display_data"
    }
   ],
   "source": [
    "sys.getsizeof?"
   ]
  },
  {
   "cell_type": "code",
   "execution_count": 96,
   "id": "80035e33-9ec0-45a9-aff1-0a3e406be6d3",
   "metadata": {},
   "outputs": [],
   "source": [
    "n = np.array([1])"
   ]
  },
  {
   "cell_type": "code",
   "execution_count": 97,
   "id": "ac732325-6dfe-4a59-88f0-9e4882dbcd51",
   "metadata": {},
   "outputs": [
    {
     "data": {
      "text/plain": [
       "108"
      ]
     },
     "execution_count": 97,
     "metadata": {},
     "output_type": "execute_result"
    }
   ],
   "source": [
    "sys.getsizeof(n)"
   ]
  },
  {
   "cell_type": "markdown",
   "id": "702e6beb-0585-44b1-bdcf-df62dcdff9c5",
   "metadata": {},
   "source": [
    "#### List"
   ]
  },
  {
   "cell_type": "code",
   "execution_count": 98,
   "id": "bb8038fd-ac95-4328-a380-d1c1ee52e4e7",
   "metadata": {},
   "outputs": [],
   "source": [
    "l = []"
   ]
  },
  {
   "cell_type": "code",
   "execution_count": 99,
   "id": "2961019b-1434-442b-8507-35ed03e7de6c",
   "metadata": {},
   "outputs": [
    {
     "data": {
      "text/plain": [
       "56"
      ]
     },
     "execution_count": 99,
     "metadata": {},
     "output_type": "execute_result"
    }
   ],
   "source": [
    "sys.getsizeof(l)"
   ]
  },
  {
   "cell_type": "code",
   "execution_count": 100,
   "id": "9fab3b9b-540a-4abd-9759-ecf75accea20",
   "metadata": {},
   "outputs": [],
   "source": [
    "l = [1]"
   ]
  },
  {
   "cell_type": "code",
   "execution_count": 101,
   "id": "5f5574ea-cd48-421f-8014-fb07db5ba912",
   "metadata": {},
   "outputs": [
    {
     "data": {
      "text/plain": [
       "64"
      ]
     },
     "execution_count": 101,
     "metadata": {},
     "output_type": "execute_result"
    }
   ],
   "source": [
    "sys.getsizeof(l)"
   ]
  },
  {
   "cell_type": "markdown",
   "id": "071da09b-df86-49ab-bb99-8b333fdef2e9",
   "metadata": {},
   "source": [
    "### b) Speed Test"
   ]
  },
  {
   "cell_type": "code",
   "execution_count": 102,
   "id": "313228f8-a76a-47a2-8b08-a70ada174560",
   "metadata": {},
   "outputs": [],
   "source": [
    "import time\n",
    "import matplotlib.pyplot as plt"
   ]
  },
  {
   "cell_type": "markdown",
   "id": "a6718421-d6e0-468a-8105-6019cd47c1be",
   "metadata": {},
   "source": [
    "#### Sum"
   ]
  },
  {
   "cell_type": "code",
   "execution_count": 108,
   "id": "b765df2f-2b8a-4f12-8aad-383ac574958e",
   "metadata": {},
   "outputs": [],
   "source": [
    "size_of_vec = 10_000_000"
   ]
  },
  {
   "cell_type": "code",
   "execution_count": null,
   "id": "0daeff24-3964-4c62-9524-81ab8840ec5d",
   "metadata": {},
   "outputs": [],
   "source": [
    "def python_add(size_of_vec):\n",
    "    t1 = time.time()\n",
    "    X = range(size_of_vec)\n",
    "    Y = range(size_of_vec)\n",
    "    Z = [X + Y for X, Y in zip(X,Y)]\n",
    "    return time.time() - t1"
   ]
  },
  {
   "cell_type": "code",
   "execution_count": 105,
   "id": "632f266c-c584-4cff-b209-f701156dc962",
   "metadata": {},
   "outputs": [],
   "source": [
    "def numpy_add(size_of_vec):\n",
    "    t1 = time.time()\n",
    "    X = np.arange(size_of_vec)\n",
    "    Y = np.arange(size_of_vec)\n",
    "    Z = X + Y\n",
    "    return time.time() - t1"
   ]
  },
  {
   "cell_type": "code",
   "execution_count": 112,
   "id": "7f9b265c-4bc4-4ec7-b672-80e026b658e8",
   "metadata": {},
   "outputs": [
    {
     "name": "stdout",
     "output_type": "stream",
     "text": [
      "python: 0.9309992790222168, numpy: 0.033989906311035156\n",
      "27.390463230549088\n"
     ]
    }
   ],
   "source": [
    "t1 = python_add(size_of_vec)\n",
    "t2 = numpy_add(size_of_vec)\n",
    "print(f'python: {t1}, numpy: {t2}')\n",
    "print(t1/t2)"
   ]
  },
  {
   "cell_type": "code",
   "execution_count": 117,
   "id": "44f10d6c-8ca0-4266-808c-89626dddfaab",
   "metadata": {},
   "outputs": [],
   "source": [
    "size_of_vecs = range(10_000, 1_000_000, 10_000)"
   ]
  },
  {
   "cell_type": "code",
   "execution_count": 118,
   "id": "05472e60-60fc-4662-bbfa-53ac425409d2",
   "metadata": {},
   "outputs": [],
   "source": [
    "t1 = [python_add(i) for i in size_of_vecs]\n",
    "t2 = [numpy_add(i) for i in size_of_vecs]"
   ]
  },
  {
   "cell_type": "code",
   "execution_count": 119,
   "id": "57092f88-e872-49bf-8e8f-a0b195f2e392",
   "metadata": {},
   "outputs": [
    {
     "data": {
      "image/png": "[encoded data removed]",
      "text/plain": [
       "<Figure size 432x288 with 1 Axes>"
      ]
     },
     "metadata": {
      "needs_background": "light"
     },
     "output_type": "display_data"
    }
   ],
   "source": [
    "plt.plot(size_of_vecs, t1, size_of_vecs, t2)\n",
    "plt.legend(['Python', 'NumPy'])\n",
    "plt.yscale('log')"
   ]
  },
  {
   "cell_type": "code",
   "execution_count": 126,
   "id": "21234d2a-ab13-4845-8e87-341e64a3d074",
   "metadata": {},
   "outputs": [],
   "source": [
    "def python_for_loop(size_of_vec):\n",
    "    t1 = time.time()\n",
    "    X = range(size_of_vec)\n",
    "    Y = range(size_of_vec)\n",
    "    for i in range(len(X)):\n",
    "        X[i] + Y[i]\n",
    "    return time.time() - t1"
   ]
  },
  {
   "cell_type": "code",
   "execution_count": 127,
   "id": "103d011b-9c8d-4fc7-a9b5-6e50b124eb73",
   "metadata": {},
   "outputs": [],
   "source": [
    "def numpy_for_loop(size_of_vec):\n",
    "    t1 = time.time()\n",
    "    X = np.arange(size_of_vec)\n",
    "    Y = np.arange(size_of_vec)\n",
    "    for i in range(len(X)):\n",
    "        X[i] + Y[i]\n",
    "    return time.time() - t1"
   ]
  },
  {
   "cell_type": "code",
   "execution_count": 128,
   "id": "fc236bd1-b5e9-4059-abeb-c4b597934d83",
   "metadata": {},
   "outputs": [
    {
     "name": "stdout",
     "output_type": "stream",
     "text": [
      "python: 1.7025001049041748, numpy: 2.370002269744873\n",
      "0.7183537866769412\n"
     ]
    }
   ],
   "source": [
    "t1 = python_for_loop(size_of_vec)\n",
    "t2 = numpy_add(size_of_vec)\n",
    "print(f'python: {t1}, numpy: {t2}')\n",
    "print(t1/t2)"
   ]
  },
  {
   "cell_type": "code",
   "execution_count": 129,
   "id": "19c2b7dd-bec5-4d3a-abac-58a5e0d0dfd7",
   "metadata": {},
   "outputs": [],
   "source": [
    "t1 = [python_for_loop(i) for i in size_of_vecs]\n",
    "t2 = [numpy_for_loop(i) for i in size_of_vecs]"
   ]
  },
  {
   "cell_type": "code",
   "execution_count": 124,
   "id": "1395f54a-7985-4627-b4ef-6abae2ca1317",
   "metadata": {},
   "outputs": [
    {
     "data": {
      "text/plain": [
       "<matplotlib.legend.Legend at 0x2554b903040>"
      ]
     },
     "execution_count": 124,
     "metadata": {},
     "output_type": "execute_result"
    },
    {
     "data": {
      "image/png": "[encoded data removed]",
      "text/plain": [
       "<Figure size 432x288 with 1 Axes>"
      ]
     },
     "metadata": {
      "needs_background": "light"
     },
     "output_type": "display_data"
    }
   ],
   "source": [
    "plt.plot(size_of_vecs, t1, size_of_vecs, t2)\n",
    "plt.legend(['Python', 'NumPy'])"
   ]
  },
  {
   "cell_type": "code",
   "execution_count": null,
   "id": "17e566e0-b81e-4b59-a94e-f426b409847b",
   "metadata": {},
   "outputs": [],
   "source": []
  }
 ],
 "metadata": {
  "kernelspec": {
   "display_name": "Python 3 (ipykernel)",
   "language": "python",
   "name": "python3"
  },
  "language_info": {
   "codemirror_mode": {
    "name": "ipython",
    "version": 3
   },
   "file_extension": ".py",
   "mimetype": "text/x-python",
   "name": "python",
   "nbconvert_exporter": "python",
   "pygments_lexer": "ipython3",
   "version": "3.10.0"
  }
 },
 "nbformat": 4,
 "nbformat_minor": 5
}
